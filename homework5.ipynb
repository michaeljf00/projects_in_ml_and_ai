{
  "cells": [
    {
      "cell_type": "markdown",
      "metadata": {
        "id": "view-in-github",
        "colab_type": "text"
      },
      "source": [
        "<a href=\"https://colab.research.google.com/github/michaeljf00/projects_in_ml_and_ai/blob/main/homework5.ipynb\" target=\"_parent\"><img src=\"https://colab.research.google.com/assets/colab-badge.svg\" alt=\"Open In Colab\"/></a>"
      ]
    },
    {
      "cell_type": "markdown",
      "metadata": {
        "id": "3vMGYEyNVbjK"
      },
      "source": [
        "**Homework 5: CNNs, AEs, GANs-**\n",
        "\n",
        "In your project, you will pick an image dataset to solve a classification task. Provide a link to\n",
        "your dataset."
      ]
    },
    {
      "cell_type": "markdown",
      "metadata": {
        "id": "1fE0PWfrZqyi"
      },
      "source": [
        "**Task 1 (70 points)**:"
      ]
    },
    {
      "cell_type": "markdown",
      "metadata": {
        "id": "QgKw0sRkZ5It"
      },
      "source": [
        "**Part 1 (20 points)**: This step involves downloading, preparing, and visualizing your\n",
        "dataset. Create a convolutional base using a common pattern: a stack of Conv and\n",
        "MaxPooling layers. Depending on the problem and the dataset you must decide what\n",
        "pattern you want to use (i.e., how many Conv layers and how many pooling layers).\n",
        "Please describe why you chose a particular pattern. Add the final dense layer(s).\n",
        "Compile and train the model. Report the final evaluation and describe the metrics."
      ]
    },
    {
      "cell_type": "code",
      "execution_count": 48,
      "metadata": {
        "colab": {
          "base_uri": "https://localhost:8080/"
        },
        "id": "-IF0lIjRw29w",
        "outputId": "483bafc6-dcc8-42e0-c6da-50f33c6c30e3"
      },
      "outputs": [
        {
          "output_type": "stream",
          "name": "stdout",
          "text": [
            "Drive already mounted at /content/drive; to attempt to forcibly remount, call drive.mount(\"/content/drive\", force_remount=True).\n"
          ]
        }
      ],
      "source": [
        "from google.colab import drive\n",
        "drive.mount('/content/drive')"
      ]
    },
    {
      "cell_type": "code",
      "execution_count": 49,
      "metadata": {
        "id": "yohWid-_PX_d"
      },
      "outputs": [],
      "source": [
        "import numpy as np\n",
        "import pandas as pd\n",
        "import tensorflow as tf\n",
        "from matplotlib import pyplot as plt, image as img\n",
        "from pathlib import Path\n",
        "from os import makedirs\n",
        "import shutil"
      ]
    },
    {
      "cell_type": "code",
      "execution_count": 50,
      "metadata": {
        "id": "IxrhXV-U3IWr"
      },
      "outputs": [],
      "source": [
        "batchSize = 32\n",
        "imgSize = (128, 128)\n",
        "SEED = 4906"
      ]
    },
    {
      "cell_type": "markdown",
      "source": [
        "Link to dataset: https://www.kaggle.com/vishalsubbiah/pokemon-images-and-types"
      ],
      "metadata": {
        "id": "UTPw9L69QjYi"
      }
    },
    {
      "cell_type": "code",
      "execution_count": 51,
      "metadata": {
        "id": "EhixwcObtokm"
      },
      "outputs": [],
      "source": [
        "df = pd.read_csv(\"drive/MyDrive/pokemon_hw8/pokemon.csv\", encoding=\"utf-8\")"
      ]
    },
    {
      "cell_type": "code",
      "execution_count": 52,
      "metadata": {
        "colab": {
          "base_uri": "https://localhost:8080/",
          "height": 206
        },
        "id": "MmOFsoZ0yJym",
        "outputId": "f552f55f-cfbe-4eb5-e3bb-c79478ddc99e"
      },
      "outputs": [
        {
          "output_type": "execute_result",
          "data": {
            "text/plain": [
              "         Name  Type1   Type2\n",
              "0   bulbasaur  Grass  Poison\n",
              "1     ivysaur  Grass  Poison\n",
              "2    venusaur  Grass  Poison\n",
              "3  charmander   Fire     NaN\n",
              "4  charmeleon   Fire     NaN"
            ],
            "text/html": [
              "\n",
              "  <div id=\"df-716fa044-80db-46fe-8f8b-c214c62d0a1b\">\n",
              "    <div class=\"colab-df-container\">\n",
              "      <div>\n",
              "<style scoped>\n",
              "    .dataframe tbody tr th:only-of-type {\n",
              "        vertical-align: middle;\n",
              "    }\n",
              "\n",
              "    .dataframe tbody tr th {\n",
              "        vertical-align: top;\n",
              "    }\n",
              "\n",
              "    .dataframe thead th {\n",
              "        text-align: right;\n",
              "    }\n",
              "</style>\n",
              "<table border=\"1\" class=\"dataframe\">\n",
              "  <thead>\n",
              "    <tr style=\"text-align: right;\">\n",
              "      <th></th>\n",
              "      <th>Name</th>\n",
              "      <th>Type1</th>\n",
              "      <th>Type2</th>\n",
              "    </tr>\n",
              "  </thead>\n",
              "  <tbody>\n",
              "    <tr>\n",
              "      <th>0</th>\n",
              "      <td>bulbasaur</td>\n",
              "      <td>Grass</td>\n",
              "      <td>Poison</td>\n",
              "    </tr>\n",
              "    <tr>\n",
              "      <th>1</th>\n",
              "      <td>ivysaur</td>\n",
              "      <td>Grass</td>\n",
              "      <td>Poison</td>\n",
              "    </tr>\n",
              "    <tr>\n",
              "      <th>2</th>\n",
              "      <td>venusaur</td>\n",
              "      <td>Grass</td>\n",
              "      <td>Poison</td>\n",
              "    </tr>\n",
              "    <tr>\n",
              "      <th>3</th>\n",
              "      <td>charmander</td>\n",
              "      <td>Fire</td>\n",
              "      <td>NaN</td>\n",
              "    </tr>\n",
              "    <tr>\n",
              "      <th>4</th>\n",
              "      <td>charmeleon</td>\n",
              "      <td>Fire</td>\n",
              "      <td>NaN</td>\n",
              "    </tr>\n",
              "  </tbody>\n",
              "</table>\n",
              "</div>\n",
              "      <button class=\"colab-df-convert\" onclick=\"convertToInteractive('df-716fa044-80db-46fe-8f8b-c214c62d0a1b')\"\n",
              "              title=\"Convert this dataframe to an interactive table.\"\n",
              "              style=\"display:none;\">\n",
              "        \n",
              "  <svg xmlns=\"http://www.w3.org/2000/svg\" height=\"24px\"viewBox=\"0 0 24 24\"\n",
              "       width=\"24px\">\n",
              "    <path d=\"M0 0h24v24H0V0z\" fill=\"none\"/>\n",
              "    <path d=\"M18.56 5.44l.94 2.06.94-2.06 2.06-.94-2.06-.94-.94-2.06-.94 2.06-2.06.94zm-11 1L8.5 8.5l.94-2.06 2.06-.94-2.06-.94L8.5 2.5l-.94 2.06-2.06.94zm10 10l.94 2.06.94-2.06 2.06-.94-2.06-.94-.94-2.06-.94 2.06-2.06.94z\"/><path d=\"M17.41 7.96l-1.37-1.37c-.4-.4-.92-.59-1.43-.59-.52 0-1.04.2-1.43.59L10.3 9.45l-7.72 7.72c-.78.78-.78 2.05 0 2.83L4 21.41c.39.39.9.59 1.41.59.51 0 1.02-.2 1.41-.59l7.78-7.78 2.81-2.81c.8-.78.8-2.07 0-2.86zM5.41 20L4 18.59l7.72-7.72 1.47 1.35L5.41 20z\"/>\n",
              "  </svg>\n",
              "      </button>\n",
              "      \n",
              "  <style>\n",
              "    .colab-df-container {\n",
              "      display:flex;\n",
              "      flex-wrap:wrap;\n",
              "      gap: 12px;\n",
              "    }\n",
              "\n",
              "    .colab-df-convert {\n",
              "      background-color: #E8F0FE;\n",
              "      border: none;\n",
              "      border-radius: 50%;\n",
              "      cursor: pointer;\n",
              "      display: none;\n",
              "      fill: #1967D2;\n",
              "      height: 32px;\n",
              "      padding: 0 0 0 0;\n",
              "      width: 32px;\n",
              "    }\n",
              "\n",
              "    .colab-df-convert:hover {\n",
              "      background-color: #E2EBFA;\n",
              "      box-shadow: 0px 1px 2px rgba(60, 64, 67, 0.3), 0px 1px 3px 1px rgba(60, 64, 67, 0.15);\n",
              "      fill: #174EA6;\n",
              "    }\n",
              "\n",
              "    [theme=dark] .colab-df-convert {\n",
              "      background-color: #3B4455;\n",
              "      fill: #D2E3FC;\n",
              "    }\n",
              "\n",
              "    [theme=dark] .colab-df-convert:hover {\n",
              "      background-color: #434B5C;\n",
              "      box-shadow: 0px 1px 3px 1px rgba(0, 0, 0, 0.15);\n",
              "      filter: drop-shadow(0px 1px 2px rgba(0, 0, 0, 0.3));\n",
              "      fill: #FFFFFF;\n",
              "    }\n",
              "  </style>\n",
              "\n",
              "      <script>\n",
              "        const buttonEl =\n",
              "          document.querySelector('#df-716fa044-80db-46fe-8f8b-c214c62d0a1b button.colab-df-convert');\n",
              "        buttonEl.style.display =\n",
              "          google.colab.kernel.accessAllowed ? 'block' : 'none';\n",
              "\n",
              "        async function convertToInteractive(key) {\n",
              "          const element = document.querySelector('#df-716fa044-80db-46fe-8f8b-c214c62d0a1b');\n",
              "          const dataTable =\n",
              "            await google.colab.kernel.invokeFunction('convertToInteractive',\n",
              "                                                     [key], {});\n",
              "          if (!dataTable) return;\n",
              "\n",
              "          const docLinkHtml = 'Like what you see? Visit the ' +\n",
              "            '<a target=\"_blank\" href=https://colab.research.google.com/notebooks/data_table.ipynb>data table notebook</a>'\n",
              "            + ' to learn more about interactive tables.';\n",
              "          element.innerHTML = '';\n",
              "          dataTable['output_type'] = 'display_data';\n",
              "          await google.colab.output.renderOutput(dataTable, element);\n",
              "          const docLink = document.createElement('div');\n",
              "          docLink.innerHTML = docLinkHtml;\n",
              "          element.appendChild(docLink);\n",
              "        }\n",
              "      </script>\n",
              "    </div>\n",
              "  </div>\n",
              "  "
            ]
          },
          "metadata": {},
          "execution_count": 52
        }
      ],
      "source": [
        "df.head()"
      ]
    },
    {
      "cell_type": "code",
      "execution_count": 53,
      "metadata": {
        "colab": {
          "base_uri": "https://localhost:8080/"
        },
        "id": "yfktGkf-zJRt",
        "outputId": "752c0280-8981-4d78-a32b-12fd96de38f1"
      },
      "outputs": [
        {
          "output_type": "execute_result",
          "data": {
            "text/plain": [
              "(809, 3)"
            ]
          },
          "metadata": {},
          "execution_count": 53
        }
      ],
      "source": [
        "df.shape"
      ]
    },
    {
      "cell_type": "markdown",
      "source": [
        "There are 809 rows with three columns of information for each row."
      ],
      "metadata": {
        "id": "2R4rjClOSVXD"
      }
    },
    {
      "cell_type": "markdown",
      "source": [
        "To make the classification process easier, we will remove the second typing of the pokemon and use their main type (type1) as the target value."
      ],
      "metadata": {
        "id": "lreIFxIbRDeg"
      }
    },
    {
      "cell_type": "code",
      "execution_count": 54,
      "metadata": {
        "id": "j70YZ6Giy70R",
        "colab": {
          "base_uri": "https://localhost:8080/",
          "height": 206
        },
        "outputId": "0b885690-343d-40da-f8eb-518eb80dc6cc"
      },
      "outputs": [
        {
          "output_type": "execute_result",
          "data": {
            "text/plain": [
              "         Name  Type1\n",
              "0   bulbasaur  Grass\n",
              "1     ivysaur  Grass\n",
              "2    venusaur  Grass\n",
              "3  charmander   Fire\n",
              "4  charmeleon   Fire"
            ],
            "text/html": [
              "\n",
              "  <div id=\"df-1244ee92-2775-41bd-93b4-b82b47b83d47\">\n",
              "    <div class=\"colab-df-container\">\n",
              "      <div>\n",
              "<style scoped>\n",
              "    .dataframe tbody tr th:only-of-type {\n",
              "        vertical-align: middle;\n",
              "    }\n",
              "\n",
              "    .dataframe tbody tr th {\n",
              "        vertical-align: top;\n",
              "    }\n",
              "\n",
              "    .dataframe thead th {\n",
              "        text-align: right;\n",
              "    }\n",
              "</style>\n",
              "<table border=\"1\" class=\"dataframe\">\n",
              "  <thead>\n",
              "    <tr style=\"text-align: right;\">\n",
              "      <th></th>\n",
              "      <th>Name</th>\n",
              "      <th>Type1</th>\n",
              "    </tr>\n",
              "  </thead>\n",
              "  <tbody>\n",
              "    <tr>\n",
              "      <th>0</th>\n",
              "      <td>bulbasaur</td>\n",
              "      <td>Grass</td>\n",
              "    </tr>\n",
              "    <tr>\n",
              "      <th>1</th>\n",
              "      <td>ivysaur</td>\n",
              "      <td>Grass</td>\n",
              "    </tr>\n",
              "    <tr>\n",
              "      <th>2</th>\n",
              "      <td>venusaur</td>\n",
              "      <td>Grass</td>\n",
              "    </tr>\n",
              "    <tr>\n",
              "      <th>3</th>\n",
              "      <td>charmander</td>\n",
              "      <td>Fire</td>\n",
              "    </tr>\n",
              "    <tr>\n",
              "      <th>4</th>\n",
              "      <td>charmeleon</td>\n",
              "      <td>Fire</td>\n",
              "    </tr>\n",
              "  </tbody>\n",
              "</table>\n",
              "</div>\n",
              "      <button class=\"colab-df-convert\" onclick=\"convertToInteractive('df-1244ee92-2775-41bd-93b4-b82b47b83d47')\"\n",
              "              title=\"Convert this dataframe to an interactive table.\"\n",
              "              style=\"display:none;\">\n",
              "        \n",
              "  <svg xmlns=\"http://www.w3.org/2000/svg\" height=\"24px\"viewBox=\"0 0 24 24\"\n",
              "       width=\"24px\">\n",
              "    <path d=\"M0 0h24v24H0V0z\" fill=\"none\"/>\n",
              "    <path d=\"M18.56 5.44l.94 2.06.94-2.06 2.06-.94-2.06-.94-.94-2.06-.94 2.06-2.06.94zm-11 1L8.5 8.5l.94-2.06 2.06-.94-2.06-.94L8.5 2.5l-.94 2.06-2.06.94zm10 10l.94 2.06.94-2.06 2.06-.94-2.06-.94-.94-2.06-.94 2.06-2.06.94z\"/><path d=\"M17.41 7.96l-1.37-1.37c-.4-.4-.92-.59-1.43-.59-.52 0-1.04.2-1.43.59L10.3 9.45l-7.72 7.72c-.78.78-.78 2.05 0 2.83L4 21.41c.39.39.9.59 1.41.59.51 0 1.02-.2 1.41-.59l7.78-7.78 2.81-2.81c.8-.78.8-2.07 0-2.86zM5.41 20L4 18.59l7.72-7.72 1.47 1.35L5.41 20z\"/>\n",
              "  </svg>\n",
              "      </button>\n",
              "      \n",
              "  <style>\n",
              "    .colab-df-container {\n",
              "      display:flex;\n",
              "      flex-wrap:wrap;\n",
              "      gap: 12px;\n",
              "    }\n",
              "\n",
              "    .colab-df-convert {\n",
              "      background-color: #E8F0FE;\n",
              "      border: none;\n",
              "      border-radius: 50%;\n",
              "      cursor: pointer;\n",
              "      display: none;\n",
              "      fill: #1967D2;\n",
              "      height: 32px;\n",
              "      padding: 0 0 0 0;\n",
              "      width: 32px;\n",
              "    }\n",
              "\n",
              "    .colab-df-convert:hover {\n",
              "      background-color: #E2EBFA;\n",
              "      box-shadow: 0px 1px 2px rgba(60, 64, 67, 0.3), 0px 1px 3px 1px rgba(60, 64, 67, 0.15);\n",
              "      fill: #174EA6;\n",
              "    }\n",
              "\n",
              "    [theme=dark] .colab-df-convert {\n",
              "      background-color: #3B4455;\n",
              "      fill: #D2E3FC;\n",
              "    }\n",
              "\n",
              "    [theme=dark] .colab-df-convert:hover {\n",
              "      background-color: #434B5C;\n",
              "      box-shadow: 0px 1px 3px 1px rgba(0, 0, 0, 0.15);\n",
              "      filter: drop-shadow(0px 1px 2px rgba(0, 0, 0, 0.3));\n",
              "      fill: #FFFFFF;\n",
              "    }\n",
              "  </style>\n",
              "\n",
              "      <script>\n",
              "        const buttonEl =\n",
              "          document.querySelector('#df-1244ee92-2775-41bd-93b4-b82b47b83d47 button.colab-df-convert');\n",
              "        buttonEl.style.display =\n",
              "          google.colab.kernel.accessAllowed ? 'block' : 'none';\n",
              "\n",
              "        async function convertToInteractive(key) {\n",
              "          const element = document.querySelector('#df-1244ee92-2775-41bd-93b4-b82b47b83d47');\n",
              "          const dataTable =\n",
              "            await google.colab.kernel.invokeFunction('convertToInteractive',\n",
              "                                                     [key], {});\n",
              "          if (!dataTable) return;\n",
              "\n",
              "          const docLinkHtml = 'Like what you see? Visit the ' +\n",
              "            '<a target=\"_blank\" href=https://colab.research.google.com/notebooks/data_table.ipynb>data table notebook</a>'\n",
              "            + ' to learn more about interactive tables.';\n",
              "          element.innerHTML = '';\n",
              "          dataTable['output_type'] = 'display_data';\n",
              "          await google.colab.output.renderOutput(dataTable, element);\n",
              "          const docLink = document.createElement('div');\n",
              "          docLink.innerHTML = docLinkHtml;\n",
              "          element.appendChild(docLink);\n",
              "        }\n",
              "      </script>\n",
              "    </div>\n",
              "  </div>\n",
              "  "
            ]
          },
          "metadata": {},
          "execution_count": 54
        }
      ],
      "source": [
        "df = df.drop('Type2', axis=1)\n",
        "df.head()"
      ]
    },
    {
      "cell_type": "code",
      "execution_count": 55,
      "metadata": {
        "colab": {
          "base_uri": "https://localhost:8080/"
        },
        "id": "WPxGNog7yUPI",
        "outputId": "f57d2b7c-78e8-4078-b650-349a528ed613"
      },
      "outputs": [
        {
          "output_type": "execute_result",
          "data": {
            "text/plain": [
              "809"
            ]
          },
          "metadata": {},
          "execution_count": 55
        }
      ],
      "source": [
        "len(df)"
      ]
    },
    {
      "cell_type": "markdown",
      "source": [],
      "metadata": {
        "id": "EYXMk352SiC_"
      }
    },
    {
      "cell_type": "code",
      "source": [
        "len(df.groupby('Type1').count())"
      ],
      "metadata": {
        "colab": {
          "base_uri": "https://localhost:8080/"
        },
        "id": "16nxjSdwXv5v",
        "outputId": "908625e1-f54a-44f3-e8c2-a726dd8b35d1"
      },
      "execution_count": 56,
      "outputs": [
        {
          "output_type": "execute_result",
          "data": {
            "text/plain": [
              "18"
            ]
          },
          "metadata": {},
          "execution_count": 56
        }
      ]
    },
    {
      "cell_type": "code",
      "execution_count": 57,
      "metadata": {
        "colab": {
          "base_uri": "https://localhost:8080/"
        },
        "id": "X_EjZtE3zh5n",
        "outputId": "dccbfedd-6f1f-48ac-de75-f7f0ef0bb0e2"
      },
      "outputs": [
        {
          "output_type": "execute_result",
          "data": {
            "text/plain": [
              "Type1\n",
              "Water       114\n",
              "Normal      105\n",
              "Grass        78\n",
              "Bug          72\n",
              "Fire         53\n",
              "Psychic      53\n",
              "Rock         46\n",
              "Electric     40\n",
              "Poison       34\n",
              "Ground       32\n",
              "Fighting     29\n",
              "Dark         29\n",
              "Ghost        27\n",
              "Dragon       27\n",
              "Steel        26\n",
              "Ice          23\n",
              "Fairy        18\n",
              "Flying        3\n",
              "dtype: int64"
            ]
          },
          "metadata": {},
          "execution_count": 57
        }
      ],
      "source": [
        "df.value_counts(\"Type1\")"
      ]
    },
    {
      "cell_type": "code",
      "execution_count": 58,
      "metadata": {
        "id": "BQHTqVzL8qvp",
        "colab": {
          "base_uri": "https://localhost:8080/"
        },
        "outputId": "f4c8e64a-7cfc-4599-e6ac-84d70bd843b0"
      },
      "outputs": [
        {
          "output_type": "execute_result",
          "data": {
            "text/plain": [
              "{'archen': PosixPath('drive/MyDrive/pokemon_hw8/pokemon_images/images/archen.png'),\n",
              " 'amoonguss': PosixPath('drive/MyDrive/pokemon_hw8/pokemon_images/images/amoonguss.png'),\n",
              " 'ampharos': PosixPath('drive/MyDrive/pokemon_hw8/pokemon_images/images/ampharos.png'),\n",
              " 'amaura': PosixPath('drive/MyDrive/pokemon_hw8/pokemon_images/images/amaura.png'),\n",
              " 'araquanid': PosixPath('drive/MyDrive/pokemon_hw8/pokemon_images/images/araquanid.jpg'),\n",
              " 'arceus': PosixPath('drive/MyDrive/pokemon_hw8/pokemon_images/images/arceus.png'),\n",
              " 'arbok': PosixPath('drive/MyDrive/pokemon_hw8/pokemon_images/images/arbok.png'),\n",
              " 'arcanine': PosixPath('drive/MyDrive/pokemon_hw8/pokemon_images/images/arcanine.png'),\n",
              " 'anorith': PosixPath('drive/MyDrive/pokemon_hw8/pokemon_images/images/anorith.png'),\n",
              " 'ambipom': PosixPath('drive/MyDrive/pokemon_hw8/pokemon_images/images/ambipom.png'),\n",
              " 'altaria': PosixPath('drive/MyDrive/pokemon_hw8/pokemon_images/images/altaria.png'),\n",
              " 'aipom': PosixPath('drive/MyDrive/pokemon_hw8/pokemon_images/images/aipom.png'),\n",
              " 'abra': PosixPath('drive/MyDrive/pokemon_hw8/pokemon_images/images/abra.png'),\n",
              " 'aegislash-blade': PosixPath('drive/MyDrive/pokemon_hw8/pokemon_images/images/aegislash-blade.png'),\n",
              " 'aggron': PosixPath('drive/MyDrive/pokemon_hw8/pokemon_images/images/aggron.png'),\n",
              " 'alomomola': PosixPath('drive/MyDrive/pokemon_hw8/pokemon_images/images/alomomola.png'),\n",
              " 'absol': PosixPath('drive/MyDrive/pokemon_hw8/pokemon_images/images/absol.png'),\n",
              " 'alakazam': PosixPath('drive/MyDrive/pokemon_hw8/pokemon_images/images/alakazam.png'),\n",
              " 'accelgor': PosixPath('drive/MyDrive/pokemon_hw8/pokemon_images/images/accelgor.png'),\n",
              " 'aerodactyl': PosixPath('drive/MyDrive/pokemon_hw8/pokemon_images/images/aerodactyl.png'),\n",
              " 'abomasnow': PosixPath('drive/MyDrive/pokemon_hw8/pokemon_images/images/abomasnow.png'),\n",
              " 'cacturne': PosixPath('drive/MyDrive/pokemon_hw8/pokemon_images/images/cacturne.png'),\n",
              " 'buizel': PosixPath('drive/MyDrive/pokemon_hw8/pokemon_images/images/buizel.png'),\n",
              " 'bulbasaur': PosixPath('drive/MyDrive/pokemon_hw8/pokemon_images/images/bulbasaur.png'),\n",
              " 'bunnelby': PosixPath('drive/MyDrive/pokemon_hw8/pokemon_images/images/bunnelby.png'),\n",
              " 'budew': PosixPath('drive/MyDrive/pokemon_hw8/pokemon_images/images/budew.png'),\n",
              " 'burmy': PosixPath('drive/MyDrive/pokemon_hw8/pokemon_images/images/burmy.png'),\n",
              " 'buneary': PosixPath('drive/MyDrive/pokemon_hw8/pokemon_images/images/buneary.png'),\n",
              " 'butterfree': PosixPath('drive/MyDrive/pokemon_hw8/pokemon_images/images/butterfree.png'),\n",
              " 'buzzwole': PosixPath('drive/MyDrive/pokemon_hw8/pokemon_images/images/buzzwole.jpg'),\n",
              " 'cacnea': PosixPath('drive/MyDrive/pokemon_hw8/pokemon_images/images/cacnea.png'),\n",
              " 'bruxish': PosixPath('drive/MyDrive/pokemon_hw8/pokemon_images/images/bruxish.jpg'),\n",
              " 'braviary': PosixPath('drive/MyDrive/pokemon_hw8/pokemon_images/images/braviary.png'),\n",
              " 'bouffalant': PosixPath('drive/MyDrive/pokemon_hw8/pokemon_images/images/bouffalant.png'),\n",
              " 'braixen': PosixPath('drive/MyDrive/pokemon_hw8/pokemon_images/images/braixen.png'),\n",
              " 'bonsly': PosixPath('drive/MyDrive/pokemon_hw8/pokemon_images/images/bonsly.png'),\n",
              " 'breloom': PosixPath('drive/MyDrive/pokemon_hw8/pokemon_images/images/breloom.png'),\n",
              " 'brionne': PosixPath('drive/MyDrive/pokemon_hw8/pokemon_images/images/brionne.jpg'),\n",
              " 'bounsweet': PosixPath('drive/MyDrive/pokemon_hw8/pokemon_images/images/bounsweet.jpg'),\n",
              " 'bronzong': PosixPath('drive/MyDrive/pokemon_hw8/pokemon_images/images/bronzong.png'),\n",
              " 'bronzor': PosixPath('drive/MyDrive/pokemon_hw8/pokemon_images/images/bronzor.png'),\n",
              " 'boldore': PosixPath('drive/MyDrive/pokemon_hw8/pokemon_images/images/boldore.png'),\n",
              " 'bidoof': PosixPath('drive/MyDrive/pokemon_hw8/pokemon_images/images/bidoof.png'),\n",
              " 'blacephalon': PosixPath('drive/MyDrive/pokemon_hw8/pokemon_images/images/blacephalon.jpg'),\n",
              " 'blaziken': PosixPath('drive/MyDrive/pokemon_hw8/pokemon_images/images/blaziken.png'),\n",
              " 'blitzle': PosixPath('drive/MyDrive/pokemon_hw8/pokemon_images/images/blitzle.png'),\n",
              " 'blastoise': PosixPath('drive/MyDrive/pokemon_hw8/pokemon_images/images/blastoise.png'),\n",
              " 'bisharp': PosixPath('drive/MyDrive/pokemon_hw8/pokemon_images/images/bisharp.png'),\n",
              " 'bibarel': PosixPath('drive/MyDrive/pokemon_hw8/pokemon_images/images/bibarel.png'),\n",
              " 'blissey': PosixPath('drive/MyDrive/pokemon_hw8/pokemon_images/images/blissey.png'),\n",
              " 'bewear': PosixPath('drive/MyDrive/pokemon_hw8/pokemon_images/images/bewear.jpg'),\n",
              " 'binacle': PosixPath('drive/MyDrive/pokemon_hw8/pokemon_images/images/binacle.png'),\n",
              " 'bellossom': PosixPath('drive/MyDrive/pokemon_hw8/pokemon_images/images/bellossom.png'),\n",
              " 'beedrill': PosixPath('drive/MyDrive/pokemon_hw8/pokemon_images/images/beedrill.png'),\n",
              " 'beheeyem': PosixPath('drive/MyDrive/pokemon_hw8/pokemon_images/images/beheeyem.png'),\n",
              " 'beautifly': PosixPath('drive/MyDrive/pokemon_hw8/pokemon_images/images/beautifly.png'),\n",
              " 'bellsprout': PosixPath('drive/MyDrive/pokemon_hw8/pokemon_images/images/bellsprout.png'),\n",
              " 'bayleef': PosixPath('drive/MyDrive/pokemon_hw8/pokemon_images/images/bayleef.png'),\n",
              " 'beldum': PosixPath('drive/MyDrive/pokemon_hw8/pokemon_images/images/beldum.png'),\n",
              " 'beartic': PosixPath('drive/MyDrive/pokemon_hw8/pokemon_images/images/beartic.png'),\n",
              " 'bergmite': PosixPath('drive/MyDrive/pokemon_hw8/pokemon_images/images/bergmite.png'),\n",
              " 'bastiodon': PosixPath('drive/MyDrive/pokemon_hw8/pokemon_images/images/bastiodon.png'),\n",
              " 'banette': PosixPath('drive/MyDrive/pokemon_hw8/pokemon_images/images/banette.png'),\n",
              " 'barbaracle': PosixPath('drive/MyDrive/pokemon_hw8/pokemon_images/images/barbaracle.png'),\n",
              " 'azumarill': PosixPath('drive/MyDrive/pokemon_hw8/pokemon_images/images/azumarill.png'),\n",
              " 'bagon': PosixPath('drive/MyDrive/pokemon_hw8/pokemon_images/images/bagon.png'),\n",
              " 'azelf': PosixPath('drive/MyDrive/pokemon_hw8/pokemon_images/images/azelf.png'),\n",
              " 'baltoy': PosixPath('drive/MyDrive/pokemon_hw8/pokemon_images/images/baltoy.png'),\n",
              " 'barboach': PosixPath('drive/MyDrive/pokemon_hw8/pokemon_images/images/barboach.png'),\n",
              " 'azurill': PosixPath('drive/MyDrive/pokemon_hw8/pokemon_images/images/azurill.png'),\n",
              " 'basculin-red-striped': PosixPath('drive/MyDrive/pokemon_hw8/pokemon_images/images/basculin-red-striped.png'),\n",
              " 'axew': PosixPath('drive/MyDrive/pokemon_hw8/pokemon_images/images/axew.png'),\n",
              " 'aromatisse': PosixPath('drive/MyDrive/pokemon_hw8/pokemon_images/images/aromatisse.png'),\n",
              " 'avalugg': PosixPath('drive/MyDrive/pokemon_hw8/pokemon_images/images/avalugg.png'),\n",
              " 'aron': PosixPath('drive/MyDrive/pokemon_hw8/pokemon_images/images/aron.png'),\n",
              " 'ariados': PosixPath('drive/MyDrive/pokemon_hw8/pokemon_images/images/ariados.png'),\n",
              " 'armaldo': PosixPath('drive/MyDrive/pokemon_hw8/pokemon_images/images/armaldo.png'),\n",
              " 'articuno': PosixPath('drive/MyDrive/pokemon_hw8/pokemon_images/images/articuno.png'),\n",
              " 'archeops': PosixPath('drive/MyDrive/pokemon_hw8/pokemon_images/images/archeops.png'),\n",
              " 'aurorus': PosixPath('drive/MyDrive/pokemon_hw8/pokemon_images/images/aurorus.png'),\n",
              " 'audino': PosixPath('drive/MyDrive/pokemon_hw8/pokemon_images/images/audino.png'),\n",
              " 'celesteela': PosixPath('drive/MyDrive/pokemon_hw8/pokemon_images/images/celesteela.jpg'),\n",
              " 'carbink': PosixPath('drive/MyDrive/pokemon_hw8/pokemon_images/images/carbink.png'),\n",
              " 'castform': PosixPath('drive/MyDrive/pokemon_hw8/pokemon_images/images/castform.png'),\n",
              " 'caterpie': PosixPath('drive/MyDrive/pokemon_hw8/pokemon_images/images/caterpie.png'),\n",
              " 'carracosta': PosixPath('drive/MyDrive/pokemon_hw8/pokemon_images/images/carracosta.png'),\n",
              " 'cascoon': PosixPath('drive/MyDrive/pokemon_hw8/pokemon_images/images/cascoon.png'),\n",
              " 'carnivine': PosixPath('drive/MyDrive/pokemon_hw8/pokemon_images/images/carnivine.png'),\n",
              " 'celebi': PosixPath('drive/MyDrive/pokemon_hw8/pokemon_images/images/celebi.png'),\n",
              " 'carvanha': PosixPath('drive/MyDrive/pokemon_hw8/pokemon_images/images/carvanha.png'),\n",
              " 'camerupt': PosixPath('drive/MyDrive/pokemon_hw8/pokemon_images/images/camerupt.png'),\n",
              " 'decidueye': PosixPath('drive/MyDrive/pokemon_hw8/pokemon_images/images/decidueye.jpg'),\n",
              " 'darkrai': PosixPath('drive/MyDrive/pokemon_hw8/pokemon_images/images/darkrai.png'),\n",
              " 'deerling': PosixPath('drive/MyDrive/pokemon_hw8/pokemon_images/images/deerling.png'),\n",
              " 'deino': PosixPath('drive/MyDrive/pokemon_hw8/pokemon_images/images/deino.png'),\n",
              " 'dartrix': PosixPath('drive/MyDrive/pokemon_hw8/pokemon_images/images/dartrix.jpg'),\n",
              " 'darmanitan-standard': PosixPath('drive/MyDrive/pokemon_hw8/pokemon_images/images/darmanitan-standard.png'),\n",
              " 'darumaka': PosixPath('drive/MyDrive/pokemon_hw8/pokemon_images/images/darumaka.png'),\n",
              " 'cyndaquil': PosixPath('drive/MyDrive/pokemon_hw8/pokemon_images/images/cyndaquil.png'),\n",
              " 'dedenne': PosixPath('drive/MyDrive/pokemon_hw8/pokemon_images/images/dedenne.png'),\n",
              " 'cutiefly': PosixPath('drive/MyDrive/pokemon_hw8/pokemon_images/images/cutiefly.jpg'),\n",
              " 'cryogonal': PosixPath('drive/MyDrive/pokemon_hw8/pokemon_images/images/cryogonal.png'),\n",
              " 'croagunk': PosixPath('drive/MyDrive/pokemon_hw8/pokemon_images/images/croagunk.png'),\n",
              " 'crawdaunt': PosixPath('drive/MyDrive/pokemon_hw8/pokemon_images/images/crawdaunt.png'),\n",
              " 'cubone': PosixPath('drive/MyDrive/pokemon_hw8/pokemon_images/images/cubone.png'),\n",
              " 'cubchoo': PosixPath('drive/MyDrive/pokemon_hw8/pokemon_images/images/cubchoo.png'),\n",
              " 'crustle': PosixPath('drive/MyDrive/pokemon_hw8/pokemon_images/images/crustle.png'),\n",
              " 'crobat': PosixPath('drive/MyDrive/pokemon_hw8/pokemon_images/images/crobat.png'),\n",
              " 'cresselia': PosixPath('drive/MyDrive/pokemon_hw8/pokemon_images/images/cresselia.png'),\n",
              " 'croconaw': PosixPath('drive/MyDrive/pokemon_hw8/pokemon_images/images/croconaw.png'),\n",
              " 'cranidos': PosixPath('drive/MyDrive/pokemon_hw8/pokemon_images/images/cranidos.png'),\n",
              " 'cradily': PosixPath('drive/MyDrive/pokemon_hw8/pokemon_images/images/cradily.png'),\n",
              " 'crabominable': PosixPath('drive/MyDrive/pokemon_hw8/pokemon_images/images/crabominable.jpg'),\n",
              " 'corphish': PosixPath('drive/MyDrive/pokemon_hw8/pokemon_images/images/corphish.png'),\n",
              " 'corsola': PosixPath('drive/MyDrive/pokemon_hw8/pokemon_images/images/corsola.png'),\n",
              " 'conkeldurr': PosixPath('drive/MyDrive/pokemon_hw8/pokemon_images/images/conkeldurr.png'),\n",
              " 'cosmog': PosixPath('drive/MyDrive/pokemon_hw8/pokemon_images/images/cosmog.jpg'),\n",
              " 'crabrawler': PosixPath('drive/MyDrive/pokemon_hw8/pokemon_images/images/crabrawler.jpg'),\n",
              " 'cottonee': PosixPath('drive/MyDrive/pokemon_hw8/pokemon_images/images/cottonee.png'),\n",
              " 'cosmoem': PosixPath('drive/MyDrive/pokemon_hw8/pokemon_images/images/cosmoem.jpg'),\n",
              " 'combusken': PosixPath('drive/MyDrive/pokemon_hw8/pokemon_images/images/combusken.png'),\n",
              " 'clefable': PosixPath('drive/MyDrive/pokemon_hw8/pokemon_images/images/clefable.png'),\n",
              " 'claydol': PosixPath('drive/MyDrive/pokemon_hw8/pokemon_images/images/claydol.png'),\n",
              " 'cloyster': PosixPath('drive/MyDrive/pokemon_hw8/pokemon_images/images/cloyster.png'),\n",
              " 'cofagrigus': PosixPath('drive/MyDrive/pokemon_hw8/pokemon_images/images/cofagrigus.png'),\n",
              " 'cobalion': PosixPath('drive/MyDrive/pokemon_hw8/pokemon_images/images/cobalion.png'),\n",
              " 'cleffa': PosixPath('drive/MyDrive/pokemon_hw8/pokemon_images/images/cleffa.png'),\n",
              " 'clefairy': PosixPath('drive/MyDrive/pokemon_hw8/pokemon_images/images/clefairy.png'),\n",
              " 'combee': PosixPath('drive/MyDrive/pokemon_hw8/pokemon_images/images/combee.png'),\n",
              " 'comfey': PosixPath('drive/MyDrive/pokemon_hw8/pokemon_images/images/comfey.jpg'),\n",
              " 'clawitzer': PosixPath('drive/MyDrive/pokemon_hw8/pokemon_images/images/clawitzer.png'),\n",
              " 'chespin': PosixPath('drive/MyDrive/pokemon_hw8/pokemon_images/images/chespin.png'),\n",
              " 'chinchou': PosixPath('drive/MyDrive/pokemon_hw8/pokemon_images/images/chinchou.png'),\n",
              " 'clauncher': PosixPath('drive/MyDrive/pokemon_hw8/pokemon_images/images/clauncher.png'),\n",
              " 'chingling': PosixPath('drive/MyDrive/pokemon_hw8/pokemon_images/images/chingling.png'),\n",
              " 'chikorita': PosixPath('drive/MyDrive/pokemon_hw8/pokemon_images/images/chikorita.png'),\n",
              " 'chimecho': PosixPath('drive/MyDrive/pokemon_hw8/pokemon_images/images/chimecho.png'),\n",
              " 'chimchar': PosixPath('drive/MyDrive/pokemon_hw8/pokemon_images/images/chimchar.png'),\n",
              " 'clamperl': PosixPath('drive/MyDrive/pokemon_hw8/pokemon_images/images/clamperl.png'),\n",
              " 'cinccino': PosixPath('drive/MyDrive/pokemon_hw8/pokemon_images/images/cinccino.png'),\n",
              " 'cherrim': PosixPath('drive/MyDrive/pokemon_hw8/pokemon_images/images/cherrim.png'),\n",
              " 'chatot': PosixPath('drive/MyDrive/pokemon_hw8/pokemon_images/images/chatot.png'),\n",
              " 'chansey': PosixPath('drive/MyDrive/pokemon_hw8/pokemon_images/images/chansey.png'),\n",
              " 'chandelure': PosixPath('drive/MyDrive/pokemon_hw8/pokemon_images/images/chandelure.png'),\n",
              " 'charmeleon': PosixPath('drive/MyDrive/pokemon_hw8/pokemon_images/images/charmeleon.png'),\n",
              " 'charizard': PosixPath('drive/MyDrive/pokemon_hw8/pokemon_images/images/charizard.png'),\n",
              " 'charjabug': PosixPath('drive/MyDrive/pokemon_hw8/pokemon_images/images/charjabug.jpg'),\n",
              " 'charmander': PosixPath('drive/MyDrive/pokemon_hw8/pokemon_images/images/charmander.png'),\n",
              " 'cherubi': PosixPath('drive/MyDrive/pokemon_hw8/pokemon_images/images/cherubi.png'),\n",
              " 'chesnaught': PosixPath('drive/MyDrive/pokemon_hw8/pokemon_images/images/chesnaught.png'),\n",
              " 'empoleon': PosixPath('drive/MyDrive/pokemon_hw8/pokemon_images/images/empoleon.png'),\n",
              " 'electivire': PosixPath('drive/MyDrive/pokemon_hw8/pokemon_images/images/electivire.png'),\n",
              " 'electrode': PosixPath('drive/MyDrive/pokemon_hw8/pokemon_images/images/electrode.png'),\n",
              " 'emolga': PosixPath('drive/MyDrive/pokemon_hw8/pokemon_images/images/emolga.png'),\n",
              " 'electrike': PosixPath('drive/MyDrive/pokemon_hw8/pokemon_images/images/electrike.png'),\n",
              " 'electabuzz': PosixPath('drive/MyDrive/pokemon_hw8/pokemon_images/images/electabuzz.png'),\n",
              " 'elekid': PosixPath('drive/MyDrive/pokemon_hw8/pokemon_images/images/elekid.png'),\n",
              " 'ekans': PosixPath('drive/MyDrive/pokemon_hw8/pokemon_images/images/ekans.png'),\n",
              " 'elgyem': PosixPath('drive/MyDrive/pokemon_hw8/pokemon_images/images/elgyem.png'),\n",
              " 'emboar': PosixPath('drive/MyDrive/pokemon_hw8/pokemon_images/images/emboar.png'),\n",
              " 'eevee': PosixPath('drive/MyDrive/pokemon_hw8/pokemon_images/images/eevee.png'),\n",
              " 'eelektross': PosixPath('drive/MyDrive/pokemon_hw8/pokemon_images/images/eelektross.png'),\n",
              " 'dusclops': PosixPath('drive/MyDrive/pokemon_hw8/pokemon_images/images/dusclops.png'),\n",
              " 'dwebble': PosixPath('drive/MyDrive/pokemon_hw8/pokemon_images/images/dwebble.png'),\n",
              " 'durant': PosixPath('drive/MyDrive/pokemon_hw8/pokemon_images/images/durant.png'),\n",
              " 'eelektrik': PosixPath('drive/MyDrive/pokemon_hw8/pokemon_images/images/eelektrik.png'),\n",
              " 'duskull': PosixPath('drive/MyDrive/pokemon_hw8/pokemon_images/images/duskull.png'),\n",
              " 'dustox': PosixPath('drive/MyDrive/pokemon_hw8/pokemon_images/images/dustox.png'),\n",
              " 'duosion': PosixPath('drive/MyDrive/pokemon_hw8/pokemon_images/images/duosion.png'),\n",
              " 'dusknoir': PosixPath('drive/MyDrive/pokemon_hw8/pokemon_images/images/dusknoir.png'),\n",
              " 'dunsparce': PosixPath('drive/MyDrive/pokemon_hw8/pokemon_images/images/dunsparce.png'),\n",
              " 'drifloon': PosixPath('drive/MyDrive/pokemon_hw8/pokemon_images/images/drifloon.png'),\n",
              " 'druddigon': PosixPath('drive/MyDrive/pokemon_hw8/pokemon_images/images/druddigon.png'),\n",
              " 'dugtrio': PosixPath('drive/MyDrive/pokemon_hw8/pokemon_images/images/dugtrio.png'),\n",
              " 'drapion': PosixPath('drive/MyDrive/pokemon_hw8/pokemon_images/images/drapion.png'),\n",
              " 'drifblim': PosixPath('drive/MyDrive/pokemon_hw8/pokemon_images/images/drifblim.png'),\n",
              " 'drowzee': PosixPath('drive/MyDrive/pokemon_hw8/pokemon_images/images/drowzee.png'),\n",
              " 'drilbur': PosixPath('drive/MyDrive/pokemon_hw8/pokemon_images/images/drilbur.png'),\n",
              " 'dratini': PosixPath('drive/MyDrive/pokemon_hw8/pokemon_images/images/dratini.png'),\n",
              " 'ducklett': PosixPath('drive/MyDrive/pokemon_hw8/pokemon_images/images/ducklett.png'),\n",
              " 'drampa': PosixPath('drive/MyDrive/pokemon_hw8/pokemon_images/images/drampa.jpg'),\n",
              " 'doduo': PosixPath('drive/MyDrive/pokemon_hw8/pokemon_images/images/doduo.png'),\n",
              " 'dragonite': PosixPath('drive/MyDrive/pokemon_hw8/pokemon_images/images/dragonite.png'),\n",
              " 'dragonair': PosixPath('drive/MyDrive/pokemon_hw8/pokemon_images/images/dragonair.png'),\n",
              " 'ditto': PosixPath('drive/MyDrive/pokemon_hw8/pokemon_images/images/ditto.png'),\n",
              " 'dragalge': PosixPath('drive/MyDrive/pokemon_hw8/pokemon_images/images/dragalge.png'),\n",
              " 'doublade': PosixPath('drive/MyDrive/pokemon_hw8/pokemon_images/images/doublade.png'),\n",
              " 'dodrio': PosixPath('drive/MyDrive/pokemon_hw8/pokemon_images/images/dodrio.png'),\n",
              " 'diglett': PosixPath('drive/MyDrive/pokemon_hw8/pokemon_images/images/diglett.png'),\n",
              " 'donphan': PosixPath('drive/MyDrive/pokemon_hw8/pokemon_images/images/donphan.png'),\n",
              " 'diggersby': PosixPath('drive/MyDrive/pokemon_hw8/pokemon_images/images/diggersby.png'),\n",
              " 'dialga': PosixPath('drive/MyDrive/pokemon_hw8/pokemon_images/images/dialga.png'),\n",
              " 'delibird': PosixPath('drive/MyDrive/pokemon_hw8/pokemon_images/images/delibird.png'),\n",
              " 'dewpider': PosixPath('drive/MyDrive/pokemon_hw8/pokemon_images/images/dewpider.jpg'),\n",
              " 'dewgong': PosixPath('drive/MyDrive/pokemon_hw8/pokemon_images/images/dewgong.png'),\n",
              " 'delphox': PosixPath('drive/MyDrive/pokemon_hw8/pokemon_images/images/delphox.png'),\n",
              " 'dhelmise': PosixPath('drive/MyDrive/pokemon_hw8/pokemon_images/images/dhelmise.jpg'),\n",
              " 'dewott': PosixPath('drive/MyDrive/pokemon_hw8/pokemon_images/images/dewott.png'),\n",
              " 'diancie': PosixPath('drive/MyDrive/pokemon_hw8/pokemon_images/images/diancie.png'),\n",
              " 'deoxys-normal': PosixPath('drive/MyDrive/pokemon_hw8/pokemon_images/images/deoxys-normal.png'),\n",
              " 'delcatty': PosixPath('drive/MyDrive/pokemon_hw8/pokemon_images/images/delcatty.png'),\n",
              " 'golduck': PosixPath('drive/MyDrive/pokemon_hw8/pokemon_images/images/golduck.png'),\n",
              " 'golbat': PosixPath('drive/MyDrive/pokemon_hw8/pokemon_images/images/golbat.png'),\n",
              " 'glalie': PosixPath('drive/MyDrive/pokemon_hw8/pokemon_images/images/glalie.png'),\n",
              " 'goldeen': PosixPath('drive/MyDrive/pokemon_hw8/pokemon_images/images/goldeen.png'),\n",
              " 'glameow': PosixPath('drive/MyDrive/pokemon_hw8/pokemon_images/images/glameow.png'),\n",
              " 'gogoat': PosixPath('drive/MyDrive/pokemon_hw8/pokemon_images/images/gogoat.png'),\n",
              " 'gliscor': PosixPath('drive/MyDrive/pokemon_hw8/pokemon_images/images/gliscor.png'),\n",
              " 'glaceon': PosixPath('drive/MyDrive/pokemon_hw8/pokemon_images/images/glaceon.png'),\n",
              " 'gligar': PosixPath('drive/MyDrive/pokemon_hw8/pokemon_images/images/gligar.png'),\n",
              " 'gloom': PosixPath('drive/MyDrive/pokemon_hw8/pokemon_images/images/gloom.png'),\n",
              " 'giratina-altered': PosixPath('drive/MyDrive/pokemon_hw8/pokemon_images/images/giratina-altered.png'),\n",
              " 'gible': PosixPath('drive/MyDrive/pokemon_hw8/pokemon_images/images/gible.png'),\n",
              " 'geodude': PosixPath('drive/MyDrive/pokemon_hw8/pokemon_images/images/geodude.png'),\n",
              " 'gastly': PosixPath('drive/MyDrive/pokemon_hw8/pokemon_images/images/gastly.png'),\n",
              " 'gardevoir': PosixPath('drive/MyDrive/pokemon_hw8/pokemon_images/images/gardevoir.png'),\n",
              " 'genesect': PosixPath('drive/MyDrive/pokemon_hw8/pokemon_images/images/genesect.png'),\n",
              " 'girafarig': PosixPath('drive/MyDrive/pokemon_hw8/pokemon_images/images/girafarig.png'),\n",
              " 'gigalith': PosixPath('drive/MyDrive/pokemon_hw8/pokemon_images/images/gigalith.png'),\n",
              " 'gengar': PosixPath('drive/MyDrive/pokemon_hw8/pokemon_images/images/gengar.png'),\n",
              " 'gastrodon': PosixPath('drive/MyDrive/pokemon_hw8/pokemon_images/images/gastrodon.png'),\n",
              " 'garchomp': PosixPath('drive/MyDrive/pokemon_hw8/pokemon_images/images/garchomp.png'),\n",
              " 'frogadier': PosixPath('drive/MyDrive/pokemon_hw8/pokemon_images/images/frogadier.png'),\n",
              " 'froakie': PosixPath('drive/MyDrive/pokemon_hw8/pokemon_images/images/froakie.png'),\n",
              " 'galvantula': PosixPath('drive/MyDrive/pokemon_hw8/pokemon_images/images/galvantula.png'),\n",
              " 'gallade': PosixPath('drive/MyDrive/pokemon_hw8/pokemon_images/images/gallade.png'),\n",
              " 'furret': PosixPath('drive/MyDrive/pokemon_hw8/pokemon_images/images/furret.png'),\n",
              " 'gabite': PosixPath('drive/MyDrive/pokemon_hw8/pokemon_images/images/gabite.png'),\n",
              " 'froslass': PosixPath('drive/MyDrive/pokemon_hw8/pokemon_images/images/froslass.png'),\n",
              " 'furfrou': PosixPath('drive/MyDrive/pokemon_hw8/pokemon_images/images/furfrou.png'),\n",
              " 'garbodor': PosixPath('drive/MyDrive/pokemon_hw8/pokemon_images/images/garbodor.png'),\n",
              " 'frillish': PosixPath('drive/MyDrive/pokemon_hw8/pokemon_images/images/frillish.png'),\n",
              " 'floette': PosixPath('drive/MyDrive/pokemon_hw8/pokemon_images/images/floette.png'),\n",
              " 'floatzel': PosixPath('drive/MyDrive/pokemon_hw8/pokemon_images/images/floatzel.png'),\n",
              " 'foongus': PosixPath('drive/MyDrive/pokemon_hw8/pokemon_images/images/foongus.png'),\n",
              " 'fletchling': PosixPath('drive/MyDrive/pokemon_hw8/pokemon_images/images/fletchling.png'),\n",
              " 'forretress': PosixPath('drive/MyDrive/pokemon_hw8/pokemon_images/images/forretress.png'),\n",
              " 'fraxure': PosixPath('drive/MyDrive/pokemon_hw8/pokemon_images/images/fraxure.png'),\n",
              " 'flygon': PosixPath('drive/MyDrive/pokemon_hw8/pokemon_images/images/flygon.png'),\n",
              " 'florges': PosixPath('drive/MyDrive/pokemon_hw8/pokemon_images/images/florges.png'),\n",
              " 'fomantis': PosixPath('drive/MyDrive/pokemon_hw8/pokemon_images/images/fomantis.jpg'),\n",
              " 'fletchinder': PosixPath('drive/MyDrive/pokemon_hw8/pokemon_images/images/fletchinder.png'),\n",
              " 'ferrothorn': PosixPath('drive/MyDrive/pokemon_hw8/pokemon_images/images/ferrothorn.png'),\n",
              " 'feraligatr': PosixPath('drive/MyDrive/pokemon_hw8/pokemon_images/images/feraligatr.png'),\n",
              " 'flaaffy': PosixPath('drive/MyDrive/pokemon_hw8/pokemon_images/images/flaaffy.png'),\n",
              " 'fennekin': PosixPath('drive/MyDrive/pokemon_hw8/pokemon_images/images/fennekin.png'),\n",
              " 'ferroseed': PosixPath('drive/MyDrive/pokemon_hw8/pokemon_images/images/ferroseed.png'),\n",
              " 'feebas': PosixPath('drive/MyDrive/pokemon_hw8/pokemon_images/images/feebas.png'),\n",
              " 'finneon': PosixPath('drive/MyDrive/pokemon_hw8/pokemon_images/images/finneon.png'),\n",
              " 'flabebe': PosixPath('drive/MyDrive/pokemon_hw8/pokemon_images/images/flabebe.png'),\n",
              " 'flareon': PosixPath('drive/MyDrive/pokemon_hw8/pokemon_images/images/flareon.png'),\n",
              " 'fearow': PosixPath('drive/MyDrive/pokemon_hw8/pokemon_images/images/fearow.png'),\n",
              " 'espurr': PosixPath('drive/MyDrive/pokemon_hw8/pokemon_images/images/espurr.png'),\n",
              " 'entei': PosixPath('drive/MyDrive/pokemon_hw8/pokemon_images/images/entei.png'),\n",
              " 'escavalier': PosixPath('drive/MyDrive/pokemon_hw8/pokemon_images/images/escavalier.png'),\n",
              " 'excadrill': PosixPath('drive/MyDrive/pokemon_hw8/pokemon_images/images/excadrill.png'),\n",
              " 'exploud': PosixPath('drive/MyDrive/pokemon_hw8/pokemon_images/images/exploud.png'),\n",
              " 'espeon': PosixPath('drive/MyDrive/pokemon_hw8/pokemon_images/images/espeon.png'),\n",
              " 'farfetchd': PosixPath('drive/MyDrive/pokemon_hw8/pokemon_images/images/farfetchd.png'),\n",
              " 'exeggcute': PosixPath('drive/MyDrive/pokemon_hw8/pokemon_images/images/exeggcute.png'),\n",
              " 'exeggutor': PosixPath('drive/MyDrive/pokemon_hw8/pokemon_images/images/exeggutor.png'),\n",
              " 'inkay': PosixPath('drive/MyDrive/pokemon_hw8/pokemon_images/images/inkay.png'),\n",
              " 'hydreigon': PosixPath('drive/MyDrive/pokemon_hw8/pokemon_images/images/hydreigon.png'),\n",
              " 'houndoom': PosixPath('drive/MyDrive/pokemon_hw8/pokemon_images/images/houndoom.png'),\n",
              " 'houndour': PosixPath('drive/MyDrive/pokemon_hw8/pokemon_images/images/houndour.png'),\n",
              " 'igglybuff': PosixPath('drive/MyDrive/pokemon_hw8/pokemon_images/images/igglybuff.png'),\n",
              " 'huntail': PosixPath('drive/MyDrive/pokemon_hw8/pokemon_images/images/huntail.png'),\n",
              " 'incineroar': PosixPath('drive/MyDrive/pokemon_hw8/pokemon_images/images/incineroar.jpg'),\n",
              " 'hypno': PosixPath('drive/MyDrive/pokemon_hw8/pokemon_images/images/hypno.png'),\n",
              " 'illumise': PosixPath('drive/MyDrive/pokemon_hw8/pokemon_images/images/illumise.png'),\n",
              " 'infernape': PosixPath('drive/MyDrive/pokemon_hw8/pokemon_images/images/infernape.png'),\n",
              " 'horsea': PosixPath('drive/MyDrive/pokemon_hw8/pokemon_images/images/horsea.png'),\n",
              " 'honchkrow': PosixPath('drive/MyDrive/pokemon_hw8/pokemon_images/images/honchkrow.png'),\n",
              " 'ho-oh': PosixPath('drive/MyDrive/pokemon_hw8/pokemon_images/images/ho-oh.png'),\n",
              " 'hoothoot': PosixPath('drive/MyDrive/pokemon_hw8/pokemon_images/images/hoothoot.png'),\n",
              " 'hitmontop': PosixPath('drive/MyDrive/pokemon_hw8/pokemon_images/images/hitmontop.png'),\n",
              " 'hitmonlee': PosixPath('drive/MyDrive/pokemon_hw8/pokemon_images/images/hitmonlee.png'),\n",
              " 'hoopa-confined': PosixPath('drive/MyDrive/pokemon_hw8/pokemon_images/images/hoopa-confined.png'),\n",
              " 'hitmonchan': PosixPath('drive/MyDrive/pokemon_hw8/pokemon_images/images/hitmonchan.png'),\n",
              " 'honedge': PosixPath('drive/MyDrive/pokemon_hw8/pokemon_images/images/honedge.png'),\n",
              " 'hoppip': PosixPath('drive/MyDrive/pokemon_hw8/pokemon_images/images/hoppip.png'),\n",
              " 'hippowdon': PosixPath('drive/MyDrive/pokemon_hw8/pokemon_images/images/hippowdon.png'),\n",
              " 'heatran': PosixPath('drive/MyDrive/pokemon_hw8/pokemon_images/images/heatran.png'),\n",
              " 'heliolisk': PosixPath('drive/MyDrive/pokemon_hw8/pokemon_images/images/heliolisk.png'),\n",
              " 'haxorus': PosixPath('drive/MyDrive/pokemon_hw8/pokemon_images/images/haxorus.png'),\n",
              " 'hippopotas': PosixPath('drive/MyDrive/pokemon_hw8/pokemon_images/images/hippopotas.png'),\n",
              " 'helioptile': PosixPath('drive/MyDrive/pokemon_hw8/pokemon_images/images/helioptile.png'),\n",
              " 'heracross': PosixPath('drive/MyDrive/pokemon_hw8/pokemon_images/images/heracross.png'),\n",
              " 'hawlucha': PosixPath('drive/MyDrive/pokemon_hw8/pokemon_images/images/hawlucha.png'),\n",
              " 'heatmor': PosixPath('drive/MyDrive/pokemon_hw8/pokemon_images/images/heatmor.png'),\n",
              " 'herdier': PosixPath('drive/MyDrive/pokemon_hw8/pokemon_images/images/herdier.png'),\n",
              " 'haunter': PosixPath('drive/MyDrive/pokemon_hw8/pokemon_images/images/haunter.png'),\n",
              " 'guzzlord': PosixPath('drive/MyDrive/pokemon_hw8/pokemon_images/images/guzzlord.jpg'),\n",
              " 'gulpin': PosixPath('drive/MyDrive/pokemon_hw8/pokemon_images/images/gulpin.png'),\n",
              " 'hakamo-o': PosixPath('drive/MyDrive/pokemon_hw8/pokemon_images/images/hakamo-o.jpg'),\n",
              " 'gumshoos': PosixPath('drive/MyDrive/pokemon_hw8/pokemon_images/images/gumshoos.jpg'),\n",
              " 'grumpig': PosixPath('drive/MyDrive/pokemon_hw8/pokemon_images/images/grumpig.png'),\n",
              " 'gurdurr': PosixPath('drive/MyDrive/pokemon_hw8/pokemon_images/images/gurdurr.png'),\n",
              " 'hariyama': PosixPath('drive/MyDrive/pokemon_hw8/pokemon_images/images/hariyama.png'),\n",
              " 'gyarados': PosixPath('drive/MyDrive/pokemon_hw8/pokemon_images/images/gyarados.png'),\n",
              " 'happiny': PosixPath('drive/MyDrive/pokemon_hw8/pokemon_images/images/happiny.png'),\n",
              " 'grubbin': PosixPath('drive/MyDrive/pokemon_hw8/pokemon_images/images/grubbin.jpg'),\n",
              " 'greninja': PosixPath('drive/MyDrive/pokemon_hw8/pokemon_images/images/greninja.png'),\n",
              " 'groudon': PosixPath('drive/MyDrive/pokemon_hw8/pokemon_images/images/groudon.png'),\n",
              " 'granbull': PosixPath('drive/MyDrive/pokemon_hw8/pokemon_images/images/granbull.png'),\n",
              " 'gourgeist-average': PosixPath('drive/MyDrive/pokemon_hw8/pokemon_images/images/gourgeist-average.png'),\n",
              " 'grovyle': PosixPath('drive/MyDrive/pokemon_hw8/pokemon_images/images/grovyle.png'),\n",
              " 'graveler': PosixPath('drive/MyDrive/pokemon_hw8/pokemon_images/images/graveler.png'),\n",
              " 'growlithe': PosixPath('drive/MyDrive/pokemon_hw8/pokemon_images/images/growlithe.png'),\n",
              " 'grotle': PosixPath('drive/MyDrive/pokemon_hw8/pokemon_images/images/grotle.png'),\n",
              " 'grimer': PosixPath('drive/MyDrive/pokemon_hw8/pokemon_images/images/grimer.png'),\n",
              " 'gothorita': PosixPath('drive/MyDrive/pokemon_hw8/pokemon_images/images/gothorita.png'),\n",
              " 'golett': PosixPath('drive/MyDrive/pokemon_hw8/pokemon_images/images/golett.png'),\n",
              " 'gorebyss': PosixPath('drive/MyDrive/pokemon_hw8/pokemon_images/images/gorebyss.png'),\n",
              " 'gothita': PosixPath('drive/MyDrive/pokemon_hw8/pokemon_images/images/gothita.png'),\n",
              " 'golem': PosixPath('drive/MyDrive/pokemon_hw8/pokemon_images/images/golem.png'),\n",
              " 'golurk': PosixPath('drive/MyDrive/pokemon_hw8/pokemon_images/images/golurk.png'),\n",
              " 'golisopod': PosixPath('drive/MyDrive/pokemon_hw8/pokemon_images/images/golisopod.jpg'),\n",
              " 'gothitelle': PosixPath('drive/MyDrive/pokemon_hw8/pokemon_images/images/gothitelle.png'),\n",
              " 'goodra': PosixPath('drive/MyDrive/pokemon_hw8/pokemon_images/images/goodra.png'),\n",
              " 'goomy': PosixPath('drive/MyDrive/pokemon_hw8/pokemon_images/images/goomy.png'),\n",
              " 'lotad': PosixPath('drive/MyDrive/pokemon_hw8/pokemon_images/images/lotad.png'),\n",
              " 'lickitung': PosixPath('drive/MyDrive/pokemon_hw8/pokemon_images/images/lickitung.png'),\n",
              " 'linoone': PosixPath('drive/MyDrive/pokemon_hw8/pokemon_images/images/linoone.png'),\n",
              " 'lileep': PosixPath('drive/MyDrive/pokemon_hw8/pokemon_images/images/lileep.png'),\n",
              " 'litwick': PosixPath('drive/MyDrive/pokemon_hw8/pokemon_images/images/litwick.png'),\n",
              " 'liepard': PosixPath('drive/MyDrive/pokemon_hw8/pokemon_images/images/liepard.png'),\n",
              " 'lilligant': PosixPath('drive/MyDrive/pokemon_hw8/pokemon_images/images/lilligant.png'),\n",
              " 'litten': PosixPath('drive/MyDrive/pokemon_hw8/pokemon_images/images/litten.jpg'),\n",
              " 'lillipup': PosixPath('drive/MyDrive/pokemon_hw8/pokemon_images/images/lillipup.png'),\n",
              " 'litleo': PosixPath('drive/MyDrive/pokemon_hw8/pokemon_images/images/litleo.png'),\n",
              " 'lombre': PosixPath('drive/MyDrive/pokemon_hw8/pokemon_images/images/lombre.png'),\n",
              " 'latios': PosixPath('drive/MyDrive/pokemon_hw8/pokemon_images/images/latios.png'),\n",
              " 'leavanny': PosixPath('drive/MyDrive/pokemon_hw8/pokemon_images/images/leavanny.png'),\n",
              " 'larvesta': PosixPath('drive/MyDrive/pokemon_hw8/pokemon_images/images/larvesta.png'),\n",
              " 'ledian': PosixPath('drive/MyDrive/pokemon_hw8/pokemon_images/images/ledian.png'),\n",
              " 'larvitar': PosixPath('drive/MyDrive/pokemon_hw8/pokemon_images/images/larvitar.png'),\n",
              " 'latias': PosixPath('drive/MyDrive/pokemon_hw8/pokemon_images/images/latias.png'),\n",
              " 'leafeon': PosixPath('drive/MyDrive/pokemon_hw8/pokemon_images/images/leafeon.png'),\n",
              " 'ledyba': PosixPath('drive/MyDrive/pokemon_hw8/pokemon_images/images/ledyba.png'),\n",
              " 'lickilicky': PosixPath('drive/MyDrive/pokemon_hw8/pokemon_images/images/lickilicky.png'),\n",
              " 'lapras': PosixPath('drive/MyDrive/pokemon_hw8/pokemon_images/images/lapras.png'),\n",
              " 'krokorok': PosixPath('drive/MyDrive/pokemon_hw8/pokemon_images/images/krokorok.png'),\n",
              " 'landorus-incarnate': PosixPath('drive/MyDrive/pokemon_hw8/pokemon_images/images/landorus-incarnate.png'),\n",
              " 'lanturn': PosixPath('drive/MyDrive/pokemon_hw8/pokemon_images/images/lanturn.png'),\n",
              " 'kyurem': PosixPath('drive/MyDrive/pokemon_hw8/pokemon_images/images/kyurem.png'),\n",
              " 'krookodile': PosixPath('drive/MyDrive/pokemon_hw8/pokemon_images/images/krookodile.png'),\n",
              " 'kyogre': PosixPath('drive/MyDrive/pokemon_hw8/pokemon_images/images/kyogre.png'),\n",
              " 'lairon': PosixPath('drive/MyDrive/pokemon_hw8/pokemon_images/images/lairon.png'),\n",
              " 'kricketot': PosixPath('drive/MyDrive/pokemon_hw8/pokemon_images/images/kricketot.png'),\n",
              " 'lampent': PosixPath('drive/MyDrive/pokemon_hw8/pokemon_images/images/lampent.png'),\n",
              " 'klang': PosixPath('drive/MyDrive/pokemon_hw8/pokemon_images/images/klang.png'),\n",
              " 'kirlia': PosixPath('drive/MyDrive/pokemon_hw8/pokemon_images/images/kirlia.png'),\n",
              " 'krabby': PosixPath('drive/MyDrive/pokemon_hw8/pokemon_images/images/krabby.png'),\n",
              " 'komala': PosixPath('drive/MyDrive/pokemon_hw8/pokemon_images/images/komala.jpg'),\n",
              " 'kommo-o': PosixPath('drive/MyDrive/pokemon_hw8/pokemon_images/images/kommo-o.jpg'),\n",
              " 'klink': PosixPath('drive/MyDrive/pokemon_hw8/pokemon_images/images/klink.png'),\n",
              " 'klinklang': PosixPath('drive/MyDrive/pokemon_hw8/pokemon_images/images/klinklang.png'),\n",
              " 'klefki': PosixPath('drive/MyDrive/pokemon_hw8/pokemon_images/images/klefki.png'),\n",
              " 'koffing': PosixPath('drive/MyDrive/pokemon_hw8/pokemon_images/images/koffing.png'),\n",
              " 'kricketune': PosixPath('drive/MyDrive/pokemon_hw8/pokemon_images/images/kricketune.png'),\n",
              " 'kingler': PosixPath('drive/MyDrive/pokemon_hw8/pokemon_images/images/kingler.png'),\n",
              " 'kakuna': PosixPath('drive/MyDrive/pokemon_hw8/pokemon_images/images/kakuna.png'),\n",
              " 'kingdra': PosixPath('drive/MyDrive/pokemon_hw8/pokemon_images/images/kingdra.png'),\n",
              " 'kecleon': PosixPath('drive/MyDrive/pokemon_hw8/pokemon_images/images/kecleon.png'),\n",
              " 'kangaskhan': PosixPath('drive/MyDrive/pokemon_hw8/pokemon_images/images/kangaskhan.png'),\n",
              " 'kartana': PosixPath('drive/MyDrive/pokemon_hw8/pokemon_images/images/kartana.jpg'),\n",
              " 'keldeo-ordinary': PosixPath('drive/MyDrive/pokemon_hw8/pokemon_images/images/keldeo-ordinary.png'),\n",
              " 'karrablast': PosixPath('drive/MyDrive/pokemon_hw8/pokemon_images/images/karrablast.png'),\n",
              " 'kabutops': PosixPath('drive/MyDrive/pokemon_hw8/pokemon_images/images/kabutops.png'),\n",
              " 'kadabra': PosixPath('drive/MyDrive/pokemon_hw8/pokemon_images/images/kadabra.png'),\n",
              " 'kabuto': PosixPath('drive/MyDrive/pokemon_hw8/pokemon_images/images/kabuto.png'),\n",
              " 'jirachi': PosixPath('drive/MyDrive/pokemon_hw8/pokemon_images/images/jirachi.png'),\n",
              " 'jynx': PosixPath('drive/MyDrive/pokemon_hw8/pokemon_images/images/jynx.png'),\n",
              " 'ivysaur': PosixPath('drive/MyDrive/pokemon_hw8/pokemon_images/images/ivysaur.png'),\n",
              " 'jigglypuff': PosixPath('drive/MyDrive/pokemon_hw8/pokemon_images/images/jigglypuff.png'),\n",
              " 'jumpluff': PosixPath('drive/MyDrive/pokemon_hw8/pokemon_images/images/jumpluff.png'),\n",
              " 'jangmo-o': PosixPath('drive/MyDrive/pokemon_hw8/pokemon_images/images/jangmo-o.jpg'),\n",
              " 'joltik': PosixPath('drive/MyDrive/pokemon_hw8/pokemon_images/images/joltik.png'),\n",
              " 'jellicent': PosixPath('drive/MyDrive/pokemon_hw8/pokemon_images/images/jellicent.png'),\n",
              " 'jolteon': PosixPath('drive/MyDrive/pokemon_hw8/pokemon_images/images/jolteon.png'),\n",
              " 'metang': PosixPath('drive/MyDrive/pokemon_hw8/pokemon_images/images/metang.png'),\n",
              " 'metapod': PosixPath('drive/MyDrive/pokemon_hw8/pokemon_images/images/metapod.png'),\n",
              " 'mewtwo': PosixPath('drive/MyDrive/pokemon_hw8/pokemon_images/images/mewtwo.png'),\n",
              " 'metagross': PosixPath('drive/MyDrive/pokemon_hw8/pokemon_images/images/metagross.png'),\n",
              " 'mienshao': PosixPath('drive/MyDrive/pokemon_hw8/pokemon_images/images/mienshao.png'),\n",
              " 'mienfoo': PosixPath('drive/MyDrive/pokemon_hw8/pokemon_images/images/mienfoo.png'),\n",
              " 'mew': PosixPath('drive/MyDrive/pokemon_hw8/pokemon_images/images/mew.png'),\n",
              " 'mesprit': PosixPath('drive/MyDrive/pokemon_hw8/pokemon_images/images/mesprit.png'),\n",
              " 'meowth': PosixPath('drive/MyDrive/pokemon_hw8/pokemon_images/images/meowth.png'),\n",
              " 'marshtomp': PosixPath('drive/MyDrive/pokemon_hw8/pokemon_images/images/marshtomp.png'),\n",
              " 'medicham': PosixPath('drive/MyDrive/pokemon_hw8/pokemon_images/images/medicham.png'),\n",
              " 'meditite': PosixPath('drive/MyDrive/pokemon_hw8/pokemon_images/images/meditite.png'),\n",
              " 'meltan': PosixPath('drive/MyDrive/pokemon_hw8/pokemon_images/images/meltan.jpg'),\n",
              " 'melmetal': PosixPath('drive/MyDrive/pokemon_hw8/pokemon_images/images/melmetal.jpg'),\n",
              " 'mawile': PosixPath('drive/MyDrive/pokemon_hw8/pokemon_images/images/mawile.png'),\n",
              " 'meganium': PosixPath('drive/MyDrive/pokemon_hw8/pokemon_images/images/meganium.png'),\n",
              " 'meloetta-aria': PosixPath('drive/MyDrive/pokemon_hw8/pokemon_images/images/meloetta-aria.png'),\n",
              " 'masquerain': PosixPath('drive/MyDrive/pokemon_hw8/pokemon_images/images/masquerain.png'),\n",
              " 'meowstic-male': PosixPath('drive/MyDrive/pokemon_hw8/pokemon_images/images/meowstic-male.png'),\n",
              " 'marshadow': PosixPath('drive/MyDrive/pokemon_hw8/pokemon_images/images/marshadow.jpg'),\n",
              " 'mantyke': PosixPath('drive/MyDrive/pokemon_hw8/pokemon_images/images/mantyke.png'),\n",
              " 'marowak': PosixPath('drive/MyDrive/pokemon_hw8/pokemon_images/images/marowak.png'),\n",
              " 'mantine': PosixPath('drive/MyDrive/pokemon_hw8/pokemon_images/images/mantine.png'),\n",
              " 'mankey': PosixPath('drive/MyDrive/pokemon_hw8/pokemon_images/images/mankey.png'),\n",
              " 'marill': PosixPath('drive/MyDrive/pokemon_hw8/pokemon_images/images/marill.png'),\n",
              " 'mareep': PosixPath('drive/MyDrive/pokemon_hw8/pokemon_images/images/mareep.png'),\n",
              " 'mareanie': PosixPath('drive/MyDrive/pokemon_hw8/pokemon_images/images/mareanie.jpg'),\n",
              " 'maractus': PosixPath('drive/MyDrive/pokemon_hw8/pokemon_images/images/maractus.png'),\n",
              " 'manectric': PosixPath('drive/MyDrive/pokemon_hw8/pokemon_images/images/manectric.png'),\n",
              " 'luxray': PosixPath('drive/MyDrive/pokemon_hw8/pokemon_images/images/luxray.png'),\n",
              " 'magcargo': PosixPath('drive/MyDrive/pokemon_hw8/pokemon_images/images/magcargo.png'),\n",
              " 'luxio': PosixPath('drive/MyDrive/pokemon_hw8/pokemon_images/images/luxio.png'),\n",
              " 'magby': PosixPath('drive/MyDrive/pokemon_hw8/pokemon_images/images/magby.png'),\n",
              " 'machamp': PosixPath('drive/MyDrive/pokemon_hw8/pokemon_images/images/machamp.png'),\n",
              " 'machoke': PosixPath('drive/MyDrive/pokemon_hw8/pokemon_images/images/machoke.png'),\n",
              " 'magearna': PosixPath('drive/MyDrive/pokemon_hw8/pokemon_images/images/magearna.jpg'),\n",
              " 'lycanroc-midday': PosixPath('drive/MyDrive/pokemon_hw8/pokemon_images/images/lycanroc-midday.jpg'),\n",
              " 'machop': PosixPath('drive/MyDrive/pokemon_hw8/pokemon_images/images/machop.png'),\n",
              " 'magnezone': PosixPath('drive/MyDrive/pokemon_hw8/pokemon_images/images/magnezone.png'),\n",
              " 'magnemite': PosixPath('drive/MyDrive/pokemon_hw8/pokemon_images/images/magnemite.png'),\n",
              " 'magneton': PosixPath('drive/MyDrive/pokemon_hw8/pokemon_images/images/magneton.png'),\n",
              " 'mamoswine': PosixPath('drive/MyDrive/pokemon_hw8/pokemon_images/images/mamoswine.png'),\n",
              " 'magmar': PosixPath('drive/MyDrive/pokemon_hw8/pokemon_images/images/magmar.png'),\n",
              " 'makuhita': PosixPath('drive/MyDrive/pokemon_hw8/pokemon_images/images/makuhita.png'),\n",
              " 'magmortar': PosixPath('drive/MyDrive/pokemon_hw8/pokemon_images/images/magmortar.png'),\n",
              " 'malamar': PosixPath('drive/MyDrive/pokemon_hw8/pokemon_images/images/malamar.png'),\n",
              " 'manaphy': PosixPath('drive/MyDrive/pokemon_hw8/pokemon_images/images/manaphy.png'),\n",
              " 'mandibuzz': PosixPath('drive/MyDrive/pokemon_hw8/pokemon_images/images/mandibuzz.png'),\n",
              " 'magikarp': PosixPath('drive/MyDrive/pokemon_hw8/pokemon_images/images/magikarp.png'),\n",
              " 'luvdisc': PosixPath('drive/MyDrive/pokemon_hw8/pokemon_images/images/luvdisc.png'),\n",
              " 'lunatone': PosixPath('drive/MyDrive/pokemon_hw8/pokemon_images/images/lunatone.png'),\n",
              " 'lurantis': PosixPath('drive/MyDrive/pokemon_hw8/pokemon_images/images/lurantis.jpg'),\n",
              " 'lunala': PosixPath('drive/MyDrive/pokemon_hw8/pokemon_images/images/lunala.jpg'),\n",
              " 'ludicolo': PosixPath('drive/MyDrive/pokemon_hw8/pokemon_images/images/ludicolo.png'),\n",
              " 'lumineon': PosixPath('drive/MyDrive/pokemon_hw8/pokemon_images/images/lumineon.png'),\n",
              " 'lucario': PosixPath('drive/MyDrive/pokemon_hw8/pokemon_images/images/lucario.png'),\n",
              " 'loudred': PosixPath('drive/MyDrive/pokemon_hw8/pokemon_images/images/loudred.png'),\n",
              " 'lugia': PosixPath('drive/MyDrive/pokemon_hw8/pokemon_images/images/lugia.png'),\n",
              " 'lopunny': PosixPath('drive/MyDrive/pokemon_hw8/pokemon_images/images/lopunny.png'),\n",
              " 'numel': PosixPath('drive/MyDrive/pokemon_hw8/pokemon_images/images/numel.png'),\n",
              " 'nidorino': PosixPath('drive/MyDrive/pokemon_hw8/pokemon_images/images/nidorino.png'),\n",
              " 'ninetales': PosixPath('drive/MyDrive/pokemon_hw8/pokemon_images/images/ninetales.png'),\n",
              " 'ninjask': PosixPath('drive/MyDrive/pokemon_hw8/pokemon_images/images/ninjask.png'),\n",
              " 'nosepass': PosixPath('drive/MyDrive/pokemon_hw8/pokemon_images/images/nosepass.png'),\n",
              " 'nincada': PosixPath('drive/MyDrive/pokemon_hw8/pokemon_images/images/nincada.png'),\n",
              " 'nihilego': PosixPath('drive/MyDrive/pokemon_hw8/pokemon_images/images/nihilego.jpg'),\n",
              " 'noibat': PosixPath('drive/MyDrive/pokemon_hw8/pokemon_images/images/noibat.png'),\n",
              " 'noivern': PosixPath('drive/MyDrive/pokemon_hw8/pokemon_images/images/noivern.png'),\n",
              " 'noctowl': PosixPath('drive/MyDrive/pokemon_hw8/pokemon_images/images/noctowl.png'),\n",
              " 'nidorina': PosixPath('drive/MyDrive/pokemon_hw8/pokemon_images/images/nidorina.png'),\n",
              " 'naganadel': PosixPath('drive/MyDrive/pokemon_hw8/pokemon_images/images/naganadel.jpg'),\n",
              " 'nidoran-m': PosixPath('drive/MyDrive/pokemon_hw8/pokemon_images/images/nidoran-m.png'),\n",
              " 'nidoking': PosixPath('drive/MyDrive/pokemon_hw8/pokemon_images/images/nidoking.png'),\n",
              " 'nidoran-f': PosixPath('drive/MyDrive/pokemon_hw8/pokemon_images/images/nidoran-f.png'),\n",
              " 'natu': PosixPath('drive/MyDrive/pokemon_hw8/pokemon_images/images/natu.png'),\n",
              " 'necrozma': PosixPath('drive/MyDrive/pokemon_hw8/pokemon_images/images/necrozma.jpg'),\n",
              " 'musharna': PosixPath('drive/MyDrive/pokemon_hw8/pokemon_images/images/musharna.png'),\n",
              " 'murkrow': PosixPath('drive/MyDrive/pokemon_hw8/pokemon_images/images/murkrow.png'),\n",
              " 'nidoqueen': PosixPath('drive/MyDrive/pokemon_hw8/pokemon_images/images/nidoqueen.png'),\n",
              " 'mightyena': PosixPath('drive/MyDrive/pokemon_hw8/pokemon_images/images/mightyena.png'),\n",
              " 'munna': PosixPath('drive/MyDrive/pokemon_hw8/pokemon_images/images/munna.png'),\n",
              " 'mr-mime': PosixPath('drive/MyDrive/pokemon_hw8/pokemon_images/images/mr-mime.png'),\n",
              " 'mudsdale': PosixPath('drive/MyDrive/pokemon_hw8/pokemon_images/images/mudsdale.jpg'),\n",
              " 'monferno': PosixPath('drive/MyDrive/pokemon_hw8/pokemon_images/images/monferno.png'),\n",
              " 'muk': PosixPath('drive/MyDrive/pokemon_hw8/pokemon_images/images/muk.png'),\n",
              " 'munchlax': PosixPath('drive/MyDrive/pokemon_hw8/pokemon_images/images/munchlax.png'),\n",
              " 'mothim': PosixPath('drive/MyDrive/pokemon_hw8/pokemon_images/images/mothim.png'),\n",
              " 'mudbray': PosixPath('drive/MyDrive/pokemon_hw8/pokemon_images/images/mudbray.jpg'),\n",
              " 'morelull': PosixPath('drive/MyDrive/pokemon_hw8/pokemon_images/images/morelull.jpg'),\n",
              " 'mudkip': PosixPath('drive/MyDrive/pokemon_hw8/pokemon_images/images/mudkip.png'),\n",
              " 'mismagius': PosixPath('drive/MyDrive/pokemon_hw8/pokemon_images/images/mismagius.png'),\n",
              " 'mime-jr': PosixPath('drive/MyDrive/pokemon_hw8/pokemon_images/images/mime-jr.png'),\n",
              " 'mimikyu': PosixPath('drive/MyDrive/pokemon_hw8/pokemon_images/images/mimikyu.jpg'),\n",
              " 'miltank': PosixPath('drive/MyDrive/pokemon_hw8/pokemon_images/images/miltank.png'),\n",
              " 'minior-meteor': PosixPath('drive/MyDrive/pokemon_hw8/pokemon_images/images/minior-meteor.jpg'),\n",
              " 'misdreavus': PosixPath('drive/MyDrive/pokemon_hw8/pokemon_images/images/misdreavus.png'),\n",
              " 'milotic': PosixPath('drive/MyDrive/pokemon_hw8/pokemon_images/images/milotic.png'),\n",
              " 'minun': PosixPath('drive/MyDrive/pokemon_hw8/pokemon_images/images/minun.png'),\n",
              " 'minccino': PosixPath('drive/MyDrive/pokemon_hw8/pokemon_images/images/minccino.png'),\n",
              " 'moltres': PosixPath('drive/MyDrive/pokemon_hw8/pokemon_images/images/moltres.png'),\n",
              " 'pumpkaboo-average': PosixPath('drive/MyDrive/pokemon_hw8/pokemon_images/images/pumpkaboo-average.png'),\n",
              " 'prinplup': PosixPath('drive/MyDrive/pokemon_hw8/pokemon_images/images/prinplup.png'),\n",
              " 'psyduck': PosixPath('drive/MyDrive/pokemon_hw8/pokemon_images/images/psyduck.png'),\n",
              " 'primeape': PosixPath('drive/MyDrive/pokemon_hw8/pokemon_images/images/primeape.png'),\n",
              " 'porygon': PosixPath('drive/MyDrive/pokemon_hw8/pokemon_images/images/porygon.png'),\n",
              " 'porygon2': PosixPath('drive/MyDrive/pokemon_hw8/pokemon_images/images/porygon2.png'),\n",
              " 'primarina': PosixPath('drive/MyDrive/pokemon_hw8/pokemon_images/images/primarina.jpg'),\n",
              " 'popplio': PosixPath('drive/MyDrive/pokemon_hw8/pokemon_images/images/popplio.jpg'),\n",
              " 'probopass': PosixPath('drive/MyDrive/pokemon_hw8/pokemon_images/images/probopass.png'),\n",
              " 'porygon-z': PosixPath('drive/MyDrive/pokemon_hw8/pokemon_images/images/porygon-z.png'),\n",
              " 'poochyena': PosixPath('drive/MyDrive/pokemon_hw8/pokemon_images/images/poochyena.png'),\n",
              " 'piplup': PosixPath('drive/MyDrive/pokemon_hw8/pokemon_images/images/piplup.png'),\n",
              " 'politoed': PosixPath('drive/MyDrive/pokemon_hw8/pokemon_images/images/politoed.png'),\n",
              " 'poliwag': PosixPath('drive/MyDrive/pokemon_hw8/pokemon_images/images/poliwag.png'),\n",
              " 'poliwhirl': PosixPath('drive/MyDrive/pokemon_hw8/pokemon_images/images/poliwhirl.png'),\n",
              " 'pinsir': PosixPath('drive/MyDrive/pokemon_hw8/pokemon_images/images/pinsir.png'),\n",
              " 'plusle': PosixPath('drive/MyDrive/pokemon_hw8/pokemon_images/images/plusle.png'),\n",
              " 'ponyta': PosixPath('drive/MyDrive/pokemon_hw8/pokemon_images/images/ponyta.png'),\n",
              " 'poipole': PosixPath('drive/MyDrive/pokemon_hw8/pokemon_images/images/poipole.jpg'),\n",
              " 'poliwrath': PosixPath('drive/MyDrive/pokemon_hw8/pokemon_images/images/poliwrath.png'),\n",
              " 'parasect': PosixPath('drive/MyDrive/pokemon_hw8/pokemon_images/images/parasect.png'),\n",
              " 'pachirisu': PosixPath('drive/MyDrive/pokemon_hw8/pokemon_images/images/pachirisu.png'),\n",
              " 'onix': PosixPath('drive/MyDrive/pokemon_hw8/pokemon_images/images/onix.png'),\n",
              " 'oricorio-baile': PosixPath('drive/MyDrive/pokemon_hw8/pokemon_images/images/oricorio-baile.jpg'),\n",
              " 'nuzleaf': PosixPath('drive/MyDrive/pokemon_hw8/pokemon_images/images/nuzleaf.png'),\n",
              " 'octillery': PosixPath('drive/MyDrive/pokemon_hw8/pokemon_images/images/octillery.png'),\n",
              " 'oshawott': PosixPath('drive/MyDrive/pokemon_hw8/pokemon_images/images/oshawott.png'),\n",
              " 'omastar': PosixPath('drive/MyDrive/pokemon_hw8/pokemon_images/images/omastar.png'),\n",
              " 'oddish': PosixPath('drive/MyDrive/pokemon_hw8/pokemon_images/images/oddish.png'),\n",
              " 'omanyte': PosixPath('drive/MyDrive/pokemon_hw8/pokemon_images/images/omanyte.png'),\n",
              " 'oranguru': PosixPath('drive/MyDrive/pokemon_hw8/pokemon_images/images/oranguru.jpg'),\n",
              " 'pignite': PosixPath('drive/MyDrive/pokemon_hw8/pokemon_images/images/pignite.png'),\n",
              " 'pidgeotto': PosixPath('drive/MyDrive/pokemon_hw8/pokemon_images/images/pidgeotto.png'),\n",
              " 'pidove': PosixPath('drive/MyDrive/pokemon_hw8/pokemon_images/images/pidove.png'),\n",
              " 'pichu': PosixPath('drive/MyDrive/pokemon_hw8/pokemon_images/images/pichu.png'),\n",
              " 'piloswine': PosixPath('drive/MyDrive/pokemon_hw8/pokemon_images/images/piloswine.png'),\n",
              " 'pidgey': PosixPath('drive/MyDrive/pokemon_hw8/pokemon_images/images/pidgey.png'),\n",
              " 'pikipek': PosixPath('drive/MyDrive/pokemon_hw8/pokemon_images/images/pikipek.jpg'),\n",
              " 'pidgeot': PosixPath('drive/MyDrive/pokemon_hw8/pokemon_images/images/pidgeot.png'),\n",
              " 'pikachu': PosixPath('drive/MyDrive/pokemon_hw8/pokemon_images/images/pikachu.png'),\n",
              " 'pineco': PosixPath('drive/MyDrive/pokemon_hw8/pokemon_images/images/pineco.png'),\n",
              " 'phantump': PosixPath('drive/MyDrive/pokemon_hw8/pokemon_images/images/phantump.png'),\n",
              " 'persian': PosixPath('drive/MyDrive/pokemon_hw8/pokemon_images/images/persian.png'),\n",
              " 'petilil': PosixPath('drive/MyDrive/pokemon_hw8/pokemon_images/images/petilil.png'),\n",
              " 'phanpy': PosixPath('drive/MyDrive/pokemon_hw8/pokemon_images/images/phanpy.png'),\n",
              " 'pawniard': PosixPath('drive/MyDrive/pokemon_hw8/pokemon_images/images/pawniard.png'),\n",
              " 'passimian': PosixPath('drive/MyDrive/pokemon_hw8/pokemon_images/images/passimian.jpg'),\n",
              " 'pheromosa': PosixPath('drive/MyDrive/pokemon_hw8/pokemon_images/images/pheromosa.jpg'),\n",
              " 'pelipper': PosixPath('drive/MyDrive/pokemon_hw8/pokemon_images/images/pelipper.png'),\n",
              " 'patrat': PosixPath('drive/MyDrive/pokemon_hw8/pokemon_images/images/patrat.png'),\n",
              " 'phione': PosixPath('drive/MyDrive/pokemon_hw8/pokemon_images/images/phione.png'),\n",
              " 'palpitoad': PosixPath('drive/MyDrive/pokemon_hw8/pokemon_images/images/palpitoad.png'),\n",
              " 'panpour': PosixPath('drive/MyDrive/pokemon_hw8/pokemon_images/images/panpour.png'),\n",
              " 'palkia': PosixPath('drive/MyDrive/pokemon_hw8/pokemon_images/images/palkia.png'),\n",
              " 'pangoro': PosixPath('drive/MyDrive/pokemon_hw8/pokemon_images/images/pangoro.png'),\n",
              " 'pancham': PosixPath('drive/MyDrive/pokemon_hw8/pokemon_images/images/pancham.png'),\n",
              " 'paras': PosixPath('drive/MyDrive/pokemon_hw8/pokemon_images/images/paras.png'),\n",
              " 'pansage': PosixPath('drive/MyDrive/pokemon_hw8/pokemon_images/images/pansage.png'),\n",
              " 'pansear': PosixPath('drive/MyDrive/pokemon_hw8/pokemon_images/images/pansear.png'),\n",
              " 'palossand': PosixPath('drive/MyDrive/pokemon_hw8/pokemon_images/images/palossand.jpg'),\n",
              " 'registeel': PosixPath('drive/MyDrive/pokemon_hw8/pokemon_images/images/registeel.png'),\n",
              " 'ribombee': PosixPath('drive/MyDrive/pokemon_hw8/pokemon_images/images/ribombee.jpg'),\n",
              " 'rhyperior': PosixPath('drive/MyDrive/pokemon_hw8/pokemon_images/images/rhyperior.png'),\n",
              " 'relicanth': PosixPath('drive/MyDrive/pokemon_hw8/pokemon_images/images/relicanth.png'),\n",
              " 'rhydon': PosixPath('drive/MyDrive/pokemon_hw8/pokemon_images/images/rhydon.png'),\n",
              " 'reuniclus': PosixPath('drive/MyDrive/pokemon_hw8/pokemon_images/images/reuniclus.png'),\n",
              " 'rhyhorn': PosixPath('drive/MyDrive/pokemon_hw8/pokemon_images/images/rhyhorn.png'),\n",
              " 'remoraid': PosixPath('drive/MyDrive/pokemon_hw8/pokemon_images/images/remoraid.png'),\n",
              " 'sceptile': PosixPath('drive/MyDrive/pokemon_hw8/pokemon_images/images/sceptile.png'),\n",
              " 'sandslash': PosixPath('drive/MyDrive/pokemon_hw8/pokemon_images/images/sandslash.png'),\n",
              " 'sawk': PosixPath('drive/MyDrive/pokemon_hw8/pokemon_images/images/sawk.png'),\n",
              " 'scatterbug': PosixPath('drive/MyDrive/pokemon_hw8/pokemon_images/images/scatterbug.png'),\n",
              " 'samurott': PosixPath('drive/MyDrive/pokemon_hw8/pokemon_images/images/samurott.png'),\n",
              " 'sawsbuck': PosixPath('drive/MyDrive/pokemon_hw8/pokemon_images/images/sawsbuck.png'),\n",
              " 'salazzle': PosixPath('drive/MyDrive/pokemon_hw8/pokemon_images/images/salazzle.jpg'),\n",
              " 'sandygast': PosixPath('drive/MyDrive/pokemon_hw8/pokemon_images/images/sandygast.jpg'),\n",
              " 'sandile': PosixPath('drive/MyDrive/pokemon_hw8/pokemon_images/images/sandile.png'),\n",
              " 'sandshrew': PosixPath('drive/MyDrive/pokemon_hw8/pokemon_images/images/sandshrew.png'),\n",
              " 'salandit': PosixPath('drive/MyDrive/pokemon_hw8/pokemon_images/images/salandit.jpg'),\n",
              " 'roserade': PosixPath('drive/MyDrive/pokemon_hw8/pokemon_images/images/roserade.png'),\n",
              " 'rowlet': PosixPath('drive/MyDrive/pokemon_hw8/pokemon_images/images/rowlet.jpg'),\n",
              " 'salamence': PosixPath('drive/MyDrive/pokemon_hw8/pokemon_images/images/salamence.png'),\n",
              " 'sableye': PosixPath('drive/MyDrive/pokemon_hw8/pokemon_images/images/sableye.png'),\n",
              " 'rufflet': PosixPath('drive/MyDrive/pokemon_hw8/pokemon_images/images/rufflet.png'),\n",
              " 'rotom': PosixPath('drive/MyDrive/pokemon_hw8/pokemon_images/images/rotom.png'),\n",
              " 'roselia': PosixPath('drive/MyDrive/pokemon_hw8/pokemon_images/images/roselia.png'),\n",
              " 'roggenrola': PosixPath('drive/MyDrive/pokemon_hw8/pokemon_images/images/roggenrola.png'),\n",
              " 'riolu': PosixPath('drive/MyDrive/pokemon_hw8/pokemon_images/images/riolu.png'),\n",
              " 'regigigas': PosixPath('drive/MyDrive/pokemon_hw8/pokemon_images/images/regigigas.png'),\n",
              " 'rattata': PosixPath('drive/MyDrive/pokemon_hw8/pokemon_images/images/rattata.png'),\n",
              " 'raticate': PosixPath('drive/MyDrive/pokemon_hw8/pokemon_images/images/raticate.png'),\n",
              " 'rayquaza': PosixPath('drive/MyDrive/pokemon_hw8/pokemon_images/images/rayquaza.png'),\n",
              " 'raikou': PosixPath('drive/MyDrive/pokemon_hw8/pokemon_images/images/raikou.png'),\n",
              " 'ralts': PosixPath('drive/MyDrive/pokemon_hw8/pokemon_images/images/ralts.png'),\n",
              " 'rapidash': PosixPath('drive/MyDrive/pokemon_hw8/pokemon_images/images/rapidash.png'),\n",
              " 'rampardos': PosixPath('drive/MyDrive/pokemon_hw8/pokemon_images/images/rampardos.png'),\n",
              " 'regice': PosixPath('drive/MyDrive/pokemon_hw8/pokemon_images/images/regice.png'),\n",
              " 'rockruff': PosixPath('drive/MyDrive/pokemon_hw8/pokemon_images/images/rockruff.jpg'),\n",
              " 'reshiram': PosixPath('drive/MyDrive/pokemon_hw8/pokemon_images/images/reshiram.png'),\n",
              " 'raichu': PosixPath('drive/MyDrive/pokemon_hw8/pokemon_images/images/raichu.png'),\n",
              " 'regirock': PosixPath('drive/MyDrive/pokemon_hw8/pokemon_images/images/regirock.png'),\n",
              " 'qwilfish': PosixPath('drive/MyDrive/pokemon_hw8/pokemon_images/images/qwilfish.png'),\n",
              " 'purugly': PosixPath('drive/MyDrive/pokemon_hw8/pokemon_images/images/purugly.png'),\n",
              " 'quilava': PosixPath('drive/MyDrive/pokemon_hw8/pokemon_images/images/quilava.png'),\n",
              " 'quagsire': PosixPath('drive/MyDrive/pokemon_hw8/pokemon_images/images/quagsire.png'),\n",
              " 'pyroar': PosixPath('drive/MyDrive/pokemon_hw8/pokemon_images/images/pyroar.png'),\n",
              " 'quilladin': PosixPath('drive/MyDrive/pokemon_hw8/pokemon_images/images/quilladin.png'),\n",
              " 'purrloin': PosixPath('drive/MyDrive/pokemon_hw8/pokemon_images/images/purrloin.png'),\n",
              " 'pupitar': PosixPath('drive/MyDrive/pokemon_hw8/pokemon_images/images/pupitar.png'),\n",
              " 'pyukumuku': PosixPath('drive/MyDrive/pokemon_hw8/pokemon_images/images/pyukumuku.jpg'),\n",
              " 'slugma': PosixPath('drive/MyDrive/pokemon_hw8/pokemon_images/images/slugma.png'),\n",
              " 'sliggoo': PosixPath('drive/MyDrive/pokemon_hw8/pokemon_images/images/sliggoo.png'),\n",
              " 'slowbro': PosixPath('drive/MyDrive/pokemon_hw8/pokemon_images/images/slowbro.png'),\n",
              " 'skrelp': PosixPath('drive/MyDrive/pokemon_hw8/pokemon_images/images/skrelp.png'),\n",
              " 'skuntank': PosixPath('drive/MyDrive/pokemon_hw8/pokemon_images/images/skuntank.png'),\n",
              " 'slakoth': PosixPath('drive/MyDrive/pokemon_hw8/pokemon_images/images/slakoth.png'),\n",
              " 'slowpoke': PosixPath('drive/MyDrive/pokemon_hw8/pokemon_images/images/slowpoke.png'),\n",
              " 'skorupi': PosixPath('drive/MyDrive/pokemon_hw8/pokemon_images/images/skorupi.png'),\n",
              " 'slowking': PosixPath('drive/MyDrive/pokemon_hw8/pokemon_images/images/slowking.png'),\n",
              " 'slaking': PosixPath('drive/MyDrive/pokemon_hw8/pokemon_images/images/slaking.png'),\n",
              " 'skitty': PosixPath('drive/MyDrive/pokemon_hw8/pokemon_images/images/skitty.png'),\n",
              " 'skarmory': PosixPath('drive/MyDrive/pokemon_hw8/pokemon_images/images/skarmory.png'),\n",
              " 'simisage': PosixPath('drive/MyDrive/pokemon_hw8/pokemon_images/images/simisage.png'),\n",
              " 'sigilyph': PosixPath('drive/MyDrive/pokemon_hw8/pokemon_images/images/sigilyph.png'),\n",
              " 'silvally': PosixPath('drive/MyDrive/pokemon_hw8/pokemon_images/images/silvally.jpg'),\n",
              " 'skiddo': PosixPath('drive/MyDrive/pokemon_hw8/pokemon_images/images/skiddo.png'),\n",
              " 'skiploom': PosixPath('drive/MyDrive/pokemon_hw8/pokemon_images/images/skiploom.png'),\n",
              " 'silcoon': PosixPath('drive/MyDrive/pokemon_hw8/pokemon_images/images/silcoon.png'),\n",
              " 'simisear': PosixPath('drive/MyDrive/pokemon_hw8/pokemon_images/images/simisear.png'),\n",
              " 'simipour': PosixPath('drive/MyDrive/pokemon_hw8/pokemon_images/images/simipour.png'),\n",
              " 'sealeo': PosixPath('drive/MyDrive/pokemon_hw8/pokemon_images/images/sealeo.png'),\n",
              " 'seadra': PosixPath('drive/MyDrive/pokemon_hw8/pokemon_images/images/seadra.png'),\n",
              " 'scizor': PosixPath('drive/MyDrive/pokemon_hw8/pokemon_images/images/scizor.png'),\n",
              " 'scraggy': PosixPath('drive/MyDrive/pokemon_hw8/pokemon_images/images/scraggy.png'),\n",
              " 'scrafty': PosixPath('drive/MyDrive/pokemon_hw8/pokemon_images/images/scrafty.png'),\n",
              " 'scyther': PosixPath('drive/MyDrive/pokemon_hw8/pokemon_images/images/scyther.png'),\n",
              " 'scolipede': PosixPath('drive/MyDrive/pokemon_hw8/pokemon_images/images/scolipede.png'),\n",
              " 'seaking': PosixPath('drive/MyDrive/pokemon_hw8/pokemon_images/images/seaking.png'),\n",
              " 'seedot': PosixPath('drive/MyDrive/pokemon_hw8/pokemon_images/images/seedot.png'),\n",
              " 'shuppet': PosixPath('drive/MyDrive/pokemon_hw8/pokemon_images/images/shuppet.png'),\n",
              " 'shellos': PosixPath('drive/MyDrive/pokemon_hw8/pokemon_images/images/shellos.png'),\n",
              " 'shieldon': PosixPath('drive/MyDrive/pokemon_hw8/pokemon_images/images/shieldon.png'),\n",
              " 'shroomish': PosixPath('drive/MyDrive/pokemon_hw8/pokemon_images/images/shroomish.png'),\n",
              " 'shiinotic': PosixPath('drive/MyDrive/pokemon_hw8/pokemon_images/images/shiinotic.jpg'),\n",
              " 'shiftry': PosixPath('drive/MyDrive/pokemon_hw8/pokemon_images/images/shiftry.png'),\n",
              " 'shellder': PosixPath('drive/MyDrive/pokemon_hw8/pokemon_images/images/shellder.png'),\n",
              " 'shelmet': PosixPath('drive/MyDrive/pokemon_hw8/pokemon_images/images/shelmet.png'),\n",
              " 'shuckle': PosixPath('drive/MyDrive/pokemon_hw8/pokemon_images/images/shuckle.png'),\n",
              " 'shinx': PosixPath('drive/MyDrive/pokemon_hw8/pokemon_images/images/shinx.png'),\n",
              " 'shelgon': PosixPath('drive/MyDrive/pokemon_hw8/pokemon_images/images/shelgon.png'),\n",
              " 'seel': PosixPath('drive/MyDrive/pokemon_hw8/pokemon_images/images/seel.png'),\n",
              " 'seviper': PosixPath('drive/MyDrive/pokemon_hw8/pokemon_images/images/seviper.png'),\n",
              " 'serperior': PosixPath('drive/MyDrive/pokemon_hw8/pokemon_images/images/serperior.png'),\n",
              " 'shedinja': PosixPath('drive/MyDrive/pokemon_hw8/pokemon_images/images/shedinja.png'),\n",
              " 'servine': PosixPath('drive/MyDrive/pokemon_hw8/pokemon_images/images/servine.png'),\n",
              " 'seismitoad': PosixPath('drive/MyDrive/pokemon_hw8/pokemon_images/images/seismitoad.png'),\n",
              " 'sewaddle': PosixPath('drive/MyDrive/pokemon_hw8/pokemon_images/images/sewaddle.png'),\n",
              " 'shaymin-land': PosixPath('drive/MyDrive/pokemon_hw8/pokemon_images/images/shaymin-land.png'),\n",
              " 'sharpedo': PosixPath('drive/MyDrive/pokemon_hw8/pokemon_images/images/sharpedo.png'),\n",
              " 'sentret': PosixPath('drive/MyDrive/pokemon_hw8/pokemon_images/images/sentret.png'),\n",
              " 'tentacool': PosixPath('drive/MyDrive/pokemon_hw8/pokemon_images/images/tentacool.png'),\n",
              " 'taillow': PosixPath('drive/MyDrive/pokemon_hw8/pokemon_images/images/taillow.png'),\n",
              " 'tauros': PosixPath('drive/MyDrive/pokemon_hw8/pokemon_images/images/tauros.png'),\n",
              " 'tapu-bulu': PosixPath('drive/MyDrive/pokemon_hw8/pokemon_images/images/tapu-bulu.jpg'),\n",
              " 'tangela': PosixPath('drive/MyDrive/pokemon_hw8/pokemon_images/images/tangela.png'),\n",
              " 'tangrowth': PosixPath('drive/MyDrive/pokemon_hw8/pokemon_images/images/tangrowth.png'),\n",
              " 'tapu-fini': PosixPath('drive/MyDrive/pokemon_hw8/pokemon_images/images/tapu-fini.jpg'),\n",
              " 'tapu-lele': PosixPath('drive/MyDrive/pokemon_hw8/pokemon_images/images/tapu-lele.jpg'),\n",
              " 'talonflame': PosixPath('drive/MyDrive/pokemon_hw8/pokemon_images/images/talonflame.png'),\n",
              " 'tapu-koko': PosixPath('drive/MyDrive/pokemon_hw8/pokemon_images/images/tapu-koko.jpg'),\n",
              " 'swanna': PosixPath('drive/MyDrive/pokemon_hw8/pokemon_images/images/swanna.png'),\n",
              " 'swirlix': PosixPath('drive/MyDrive/pokemon_hw8/pokemon_images/images/swirlix.png'),\n",
              " 'swellow': PosixPath('drive/MyDrive/pokemon_hw8/pokemon_images/images/swellow.png'),\n",
              " 'swinub': PosixPath('drive/MyDrive/pokemon_hw8/pokemon_images/images/swinub.png'),\n",
              " 'swoobat': PosixPath('drive/MyDrive/pokemon_hw8/pokemon_images/images/swoobat.png'),\n",
              " 'sylveon': PosixPath('drive/MyDrive/pokemon_hw8/pokemon_images/images/sylveon.png'),\n",
              " 'swadloon': PosixPath('drive/MyDrive/pokemon_hw8/pokemon_images/images/swadloon.png'),\n",
              " 'swalot': PosixPath('drive/MyDrive/pokemon_hw8/pokemon_images/images/swalot.png'),\n",
              " 'swampert': PosixPath('drive/MyDrive/pokemon_hw8/pokemon_images/images/swampert.png'),\n",
              " 'teddiursa': PosixPath('drive/MyDrive/pokemon_hw8/pokemon_images/images/teddiursa.png'),\n",
              " 'stoutland': PosixPath('drive/MyDrive/pokemon_hw8/pokemon_images/images/stoutland.png'),\n",
              " 'sunflora': PosixPath('drive/MyDrive/pokemon_hw8/pokemon_images/images/sunflora.png'),\n",
              " 'stufful': PosixPath('drive/MyDrive/pokemon_hw8/pokemon_images/images/stufful.jpg'),\n",
              " 'suicune': PosixPath('drive/MyDrive/pokemon_hw8/pokemon_images/images/suicune.png'),\n",
              " 'stunky': PosixPath('drive/MyDrive/pokemon_hw8/pokemon_images/images/stunky.png'),\n",
              " 'sudowoodo': PosixPath('drive/MyDrive/pokemon_hw8/pokemon_images/images/sudowoodo.png'),\n",
              " 'stunfisk': PosixPath('drive/MyDrive/pokemon_hw8/pokemon_images/images/stunfisk.png'),\n",
              " 'sunkern': PosixPath('drive/MyDrive/pokemon_hw8/pokemon_images/images/sunkern.png'),\n",
              " 'surskit': PosixPath('drive/MyDrive/pokemon_hw8/pokemon_images/images/surskit.png'),\n",
              " 'swablu': PosixPath('drive/MyDrive/pokemon_hw8/pokemon_images/images/swablu.png'),\n",
              " 'steenee': PosixPath('drive/MyDrive/pokemon_hw8/pokemon_images/images/steenee.jpg'),\n",
              " 'steelix': PosixPath('drive/MyDrive/pokemon_hw8/pokemon_images/images/steelix.png'),\n",
              " 'staraptor': PosixPath('drive/MyDrive/pokemon_hw8/pokemon_images/images/staraptor.png'),\n",
              " 'starmie': PosixPath('drive/MyDrive/pokemon_hw8/pokemon_images/images/starmie.png'),\n",
              " 'staravia': PosixPath('drive/MyDrive/pokemon_hw8/pokemon_images/images/staravia.png'),\n",
              " 'starly': PosixPath('drive/MyDrive/pokemon_hw8/pokemon_images/images/starly.png'),\n",
              " 'stantler': PosixPath('drive/MyDrive/pokemon_hw8/pokemon_images/images/stantler.png'),\n",
              " 'stakataka': PosixPath('drive/MyDrive/pokemon_hw8/pokemon_images/images/stakataka.jpg'),\n",
              " 'staryu': PosixPath('drive/MyDrive/pokemon_hw8/pokemon_images/images/staryu.png'),\n",
              " 'squirtle': PosixPath('drive/MyDrive/pokemon_hw8/pokemon_images/images/squirtle.png'),\n",
              " 'spritzee': PosixPath('drive/MyDrive/pokemon_hw8/pokemon_images/images/spritzee.png'),\n",
              " 'spearow': PosixPath('drive/MyDrive/pokemon_hw8/pokemon_images/images/spearow.png'),\n",
              " 'spinarak': PosixPath('drive/MyDrive/pokemon_hw8/pokemon_images/images/spinarak.png'),\n",
              " 'spewpa': PosixPath('drive/MyDrive/pokemon_hw8/pokemon_images/images/spewpa.png'),\n",
              " 'spiritomb': PosixPath('drive/MyDrive/pokemon_hw8/pokemon_images/images/spiritomb.png'),\n",
              " 'spheal': PosixPath('drive/MyDrive/pokemon_hw8/pokemon_images/images/spheal.png'),\n",
              " 'spinda': PosixPath('drive/MyDrive/pokemon_hw8/pokemon_images/images/spinda.png'),\n",
              " 'solosis': PosixPath('drive/MyDrive/pokemon_hw8/pokemon_images/images/solosis.png'),\n",
              " 'spoink': PosixPath('drive/MyDrive/pokemon_hw8/pokemon_images/images/spoink.png'),\n",
              " 'solrock': PosixPath('drive/MyDrive/pokemon_hw8/pokemon_images/images/solrock.png'),\n",
              " 'smeargle': PosixPath('drive/MyDrive/pokemon_hw8/pokemon_images/images/smeargle.png'),\n",
              " 'snover': PosixPath('drive/MyDrive/pokemon_hw8/pokemon_images/images/snover.png'),\n",
              " 'smoochum': PosixPath('drive/MyDrive/pokemon_hw8/pokemon_images/images/smoochum.png'),\n",
              " 'slurpuff': PosixPath('drive/MyDrive/pokemon_hw8/pokemon_images/images/slurpuff.png'),\n",
              " 'snivy': PosixPath('drive/MyDrive/pokemon_hw8/pokemon_images/images/snivy.png'),\n",
              " 'snorunt': PosixPath('drive/MyDrive/pokemon_hw8/pokemon_images/images/snorunt.png'),\n",
              " 'sneasel': PosixPath('drive/MyDrive/pokemon_hw8/pokemon_images/images/sneasel.png'),\n",
              " 'snorlax': PosixPath('drive/MyDrive/pokemon_hw8/pokemon_images/images/snorlax.png'),\n",
              " 'snubbull': PosixPath('drive/MyDrive/pokemon_hw8/pokemon_images/images/snubbull.png'),\n",
              " 'solgaleo': PosixPath('drive/MyDrive/pokemon_hw8/pokemon_images/images/solgaleo.jpg'),\n",
              " 'victreebel': PosixPath('drive/MyDrive/pokemon_hw8/pokemon_images/images/victreebel.png'),\n",
              " 'vespiquen': PosixPath('drive/MyDrive/pokemon_hw8/pokemon_images/images/vespiquen.png'),\n",
              " 'vileplume': PosixPath('drive/MyDrive/pokemon_hw8/pokemon_images/images/vileplume.png'),\n",
              " 'virizion': PosixPath('drive/MyDrive/pokemon_hw8/pokemon_images/images/virizion.png'),\n",
              " 'vikavolt': PosixPath('drive/MyDrive/pokemon_hw8/pokemon_images/images/vikavolt.jpg'),\n",
              " 'vigoroth': PosixPath('drive/MyDrive/pokemon_hw8/pokemon_images/images/vigoroth.png'),\n",
              " 'vibrava': PosixPath('drive/MyDrive/pokemon_hw8/pokemon_images/images/vibrava.png'),\n",
              " 'venusaur': PosixPath('drive/MyDrive/pokemon_hw8/pokemon_images/images/venusaur.png'),\n",
              " 'victini': PosixPath('drive/MyDrive/pokemon_hw8/pokemon_images/images/victini.png'),\n",
              " 'venonat': PosixPath('drive/MyDrive/pokemon_hw8/pokemon_images/images/venonat.png'),\n",
              " 'vanilluxe': PosixPath('drive/MyDrive/pokemon_hw8/pokemon_images/images/vanilluxe.png'),\n",
              " 'unown': PosixPath('drive/MyDrive/pokemon_hw8/pokemon_images/images/unown.png'),\n",
              " 'uxie': PosixPath('drive/MyDrive/pokemon_hw8/pokemon_images/images/uxie.png'),\n",
              " 'venipede': PosixPath('drive/MyDrive/pokemon_hw8/pokemon_images/images/venipede.png'),\n",
              " 'vaporeon': PosixPath('drive/MyDrive/pokemon_hw8/pokemon_images/images/vaporeon.png'),\n",
              " 'vanillish': PosixPath('drive/MyDrive/pokemon_hw8/pokemon_images/images/vanillish.png'),\n",
              " 'venomoth': PosixPath('drive/MyDrive/pokemon_hw8/pokemon_images/images/venomoth.png'),\n",
              " 'vanillite': PosixPath('drive/MyDrive/pokemon_hw8/pokemon_images/images/vanillite.png'),\n",
              " 'ursaring': PosixPath('drive/MyDrive/pokemon_hw8/pokemon_images/images/ursaring.png'),\n",
              " 'unfezant': PosixPath('drive/MyDrive/pokemon_hw8/pokemon_images/images/unfezant.png'),\n",
              " 'tympole': PosixPath('drive/MyDrive/pokemon_hw8/pokemon_images/images/tympole.png'),\n",
              " 'tynamo': PosixPath('drive/MyDrive/pokemon_hw8/pokemon_images/images/tynamo.png'),\n",
              " 'tyrantrum': PosixPath('drive/MyDrive/pokemon_hw8/pokemon_images/images/tyrantrum.png'),\n",
              " 'tyranitar': PosixPath('drive/MyDrive/pokemon_hw8/pokemon_images/images/tyranitar.png'),\n",
              " 'tyrunt': PosixPath('drive/MyDrive/pokemon_hw8/pokemon_images/images/tyrunt.png'),\n",
              " 'typhlosion': PosixPath('drive/MyDrive/pokemon_hw8/pokemon_images/images/typhlosion.png'),\n",
              " 'umbreon': PosixPath('drive/MyDrive/pokemon_hw8/pokemon_images/images/umbreon.png'),\n",
              " 'tyrogue': PosixPath('drive/MyDrive/pokemon_hw8/pokemon_images/images/tyrogue.png'),\n",
              " 'type-null': PosixPath('drive/MyDrive/pokemon_hw8/pokemon_images/images/type-null.jpg'),\n",
              " 'turtwig': PosixPath('drive/MyDrive/pokemon_hw8/pokemon_images/images/turtwig.png'),\n",
              " 'trubbish': PosixPath('drive/MyDrive/pokemon_hw8/pokemon_images/images/trubbish.png'),\n",
              " 'turtonator': PosixPath('drive/MyDrive/pokemon_hw8/pokemon_images/images/turtonator.jpg'),\n",
              " 'treecko': PosixPath('drive/MyDrive/pokemon_hw8/pokemon_images/images/treecko.png'),\n",
              " 'tranquill': PosixPath('drive/MyDrive/pokemon_hw8/pokemon_images/images/tranquill.png'),\n",
              " 'trumbeak': PosixPath('drive/MyDrive/pokemon_hw8/pokemon_images/images/trumbeak.jpg'),\n",
              " 'tsareena': PosixPath('drive/MyDrive/pokemon_hw8/pokemon_images/images/tsareena.jpg'),\n",
              " 'trapinch': PosixPath('drive/MyDrive/pokemon_hw8/pokemon_images/images/trapinch.png'),\n",
              " 'tropius': PosixPath('drive/MyDrive/pokemon_hw8/pokemon_images/images/tropius.png'),\n",
              " 'trevenant': PosixPath('drive/MyDrive/pokemon_hw8/pokemon_images/images/trevenant.png'),\n",
              " 'toxicroak': PosixPath('drive/MyDrive/pokemon_hw8/pokemon_images/images/toxicroak.png'),\n",
              " 'torkoal': PosixPath('drive/MyDrive/pokemon_hw8/pokemon_images/images/torkoal.png'),\n",
              " 'torterra': PosixPath('drive/MyDrive/pokemon_hw8/pokemon_images/images/torterra.png'),\n",
              " 'toucannon': PosixPath('drive/MyDrive/pokemon_hw8/pokemon_images/images/toucannon.jpg'),\n",
              " 'toxapex': PosixPath('drive/MyDrive/pokemon_hw8/pokemon_images/images/toxapex.jpg'),\n",
              " 'tornadus-incarnate': PosixPath('drive/MyDrive/pokemon_hw8/pokemon_images/images/tornadus-incarnate.png'),\n",
              " 'totodile': PosixPath('drive/MyDrive/pokemon_hw8/pokemon_images/images/totodile.png'),\n",
              " 'togetic': PosixPath('drive/MyDrive/pokemon_hw8/pokemon_images/images/togetic.png'),\n",
              " 'torracat': PosixPath('drive/MyDrive/pokemon_hw8/pokemon_images/images/torracat.jpg'),\n",
              " 'torchic': PosixPath('drive/MyDrive/pokemon_hw8/pokemon_images/images/torchic.png'),\n",
              " 'togepi': PosixPath('drive/MyDrive/pokemon_hw8/pokemon_images/images/togepi.png'),\n",
              " 'tepig': PosixPath('drive/MyDrive/pokemon_hw8/pokemon_images/images/tepig.png'),\n",
              " 'togedemaru': PosixPath('drive/MyDrive/pokemon_hw8/pokemon_images/images/togedemaru.jpg'),\n",
              " 'throh': PosixPath('drive/MyDrive/pokemon_hw8/pokemon_images/images/throh.png'),\n",
              " 'terrakion': PosixPath('drive/MyDrive/pokemon_hw8/pokemon_images/images/terrakion.png'),\n",
              " 'thundurus-incarnate': PosixPath('drive/MyDrive/pokemon_hw8/pokemon_images/images/thundurus-incarnate.png'),\n",
              " 'tirtouga': PosixPath('drive/MyDrive/pokemon_hw8/pokemon_images/images/tirtouga.png'),\n",
              " 'togekiss': PosixPath('drive/MyDrive/pokemon_hw8/pokemon_images/images/togekiss.png'),\n",
              " 'timburr': PosixPath('drive/MyDrive/pokemon_hw8/pokemon_images/images/timburr.png'),\n",
              " 'tentacruel': PosixPath('drive/MyDrive/pokemon_hw8/pokemon_images/images/tentacruel.png'),\n",
              " 'zygarde-50': PosixPath('drive/MyDrive/pokemon_hw8/pokemon_images/images/zygarde-50.png'),\n",
              " 'zeraora': PosixPath('drive/MyDrive/pokemon_hw8/pokemon_images/images/zeraora.jpg'),\n",
              " 'zekrom': PosixPath('drive/MyDrive/pokemon_hw8/pokemon_images/images/zekrom.png'),\n",
              " 'zorua': PosixPath('drive/MyDrive/pokemon_hw8/pokemon_images/images/zorua.png'),\n",
              " 'zubat': PosixPath('drive/MyDrive/pokemon_hw8/pokemon_images/images/zubat.png'),\n",
              " 'zigzagoon': PosixPath('drive/MyDrive/pokemon_hw8/pokemon_images/images/zigzagoon.png'),\n",
              " 'zoroark': PosixPath('drive/MyDrive/pokemon_hw8/pokemon_images/images/zoroark.png'),\n",
              " 'zweilous': PosixPath('drive/MyDrive/pokemon_hw8/pokemon_images/images/zweilous.png'),\n",
              " 'zebstrika': PosixPath('drive/MyDrive/pokemon_hw8/pokemon_images/images/zebstrika.png'),\n",
              " 'yamask': PosixPath('drive/MyDrive/pokemon_hw8/pokemon_images/images/yamask.png'),\n",
              " 'yveltal': PosixPath('drive/MyDrive/pokemon_hw8/pokemon_images/images/yveltal.png'),\n",
              " 'yanma': PosixPath('drive/MyDrive/pokemon_hw8/pokemon_images/images/yanma.png'),\n",
              " 'xurkitree': PosixPath('drive/MyDrive/pokemon_hw8/pokemon_images/images/xurkitree.jpg'),\n",
              " 'zapdos': PosixPath('drive/MyDrive/pokemon_hw8/pokemon_images/images/zapdos.png'),\n",
              " 'zangoose': PosixPath('drive/MyDrive/pokemon_hw8/pokemon_images/images/zangoose.png'),\n",
              " 'yungoos': PosixPath('drive/MyDrive/pokemon_hw8/pokemon_images/images/yungoos.jpg'),\n",
              " 'xerneas': PosixPath('drive/MyDrive/pokemon_hw8/pokemon_images/images/xerneas.png'),\n",
              " 'yanmega': PosixPath('drive/MyDrive/pokemon_hw8/pokemon_images/images/yanmega.png'),\n",
              " 'xatu': PosixPath('drive/MyDrive/pokemon_hw8/pokemon_images/images/xatu.png'),\n",
              " 'wingull': PosixPath('drive/MyDrive/pokemon_hw8/pokemon_images/images/wingull.png'),\n",
              " 'wobbuffet': PosixPath('drive/MyDrive/pokemon_hw8/pokemon_images/images/wobbuffet.png'),\n",
              " 'wynaut': PosixPath('drive/MyDrive/pokemon_hw8/pokemon_images/images/wynaut.png'),\n",
              " 'wormadam-plant': PosixPath('drive/MyDrive/pokemon_hw8/pokemon_images/images/wormadam-plant.png'),\n",
              " 'wooper': PosixPath('drive/MyDrive/pokemon_hw8/pokemon_images/images/wooper.png'),\n",
              " 'wurmple': PosixPath('drive/MyDrive/pokemon_hw8/pokemon_images/images/wurmple.png'),\n",
              " 'wishiwashi-solo': PosixPath('drive/MyDrive/pokemon_hw8/pokemon_images/images/wishiwashi-solo.jpg'),\n",
              " 'wimpod': PosixPath('drive/MyDrive/pokemon_hw8/pokemon_images/images/wimpod.jpg'),\n",
              " 'woobat': PosixPath('drive/MyDrive/pokemon_hw8/pokemon_images/images/woobat.png'),\n",
              " 'wigglytuff': PosixPath('drive/MyDrive/pokemon_hw8/pokemon_images/images/wigglytuff.png'),\n",
              " 'weavile': PosixPath('drive/MyDrive/pokemon_hw8/pokemon_images/images/weavile.png'),\n",
              " 'whiscash': PosixPath('drive/MyDrive/pokemon_hw8/pokemon_images/images/whiscash.png'),\n",
              " 'weezing': PosixPath('drive/MyDrive/pokemon_hw8/pokemon_images/images/weezing.png'),\n",
              " 'whimsicott': PosixPath('drive/MyDrive/pokemon_hw8/pokemon_images/images/whimsicott.png'),\n",
              " 'weepinbell': PosixPath('drive/MyDrive/pokemon_hw8/pokemon_images/images/weepinbell.png'),\n",
              " 'weedle': PosixPath('drive/MyDrive/pokemon_hw8/pokemon_images/images/weedle.png'),\n",
              " 'whirlipede': PosixPath('drive/MyDrive/pokemon_hw8/pokemon_images/images/whirlipede.png'),\n",
              " 'watchog': PosixPath('drive/MyDrive/pokemon_hw8/pokemon_images/images/watchog.png'),\n",
              " 'whismur': PosixPath('drive/MyDrive/pokemon_hw8/pokemon_images/images/whismur.png'),\n",
              " 'wartortle': PosixPath('drive/MyDrive/pokemon_hw8/pokemon_images/images/wartortle.png'),\n",
              " 'vullaby': PosixPath('drive/MyDrive/pokemon_hw8/pokemon_images/images/vullaby.png'),\n",
              " 'wailmer': PosixPath('drive/MyDrive/pokemon_hw8/pokemon_images/images/wailmer.png'),\n",
              " 'wailord': PosixPath('drive/MyDrive/pokemon_hw8/pokemon_images/images/wailord.png'),\n",
              " 'volcarona': PosixPath('drive/MyDrive/pokemon_hw8/pokemon_images/images/volcarona.png'),\n",
              " 'walrein': PosixPath('drive/MyDrive/pokemon_hw8/pokemon_images/images/walrein.png'),\n",
              " 'volcanion': PosixPath('drive/MyDrive/pokemon_hw8/pokemon_images/images/volcanion.png'),\n",
              " 'vulpix': PosixPath('drive/MyDrive/pokemon_hw8/pokemon_images/images/vulpix.png'),\n",
              " 'voltorb': PosixPath('drive/MyDrive/pokemon_hw8/pokemon_images/images/voltorb.png'),\n",
              " 'volbeat': PosixPath('drive/MyDrive/pokemon_hw8/pokemon_images/images/volbeat.png'),\n",
              " 'vivillon': PosixPath('drive/MyDrive/pokemon_hw8/pokemon_images/images/vivillon.png')}"
            ]
          },
          "metadata": {},
          "execution_count": 58
        }
      ],
      "source": [
        "images = list(Path(\"drive/MyDrive/pokemon_hw8/pokemon_images/images\").glob('*'))\n",
        "labelledImages = {image.name[:-4]: image for image in images}\n",
        "labelledImages"
      ]
    },
    {
      "cell_type": "markdown",
      "source": [
        "With names of the pokemon parsed out of the dataset, we can the create the appropriate folders for each type and categorize each pokemon in their proper folder."
      ],
      "metadata": {
        "id": "U0Ef0AjcTCHA"
      }
    },
    {
      "cell_type": "code",
      "execution_count": 59,
      "metadata": {
        "id": "98TppHN97NAT"
      },
      "outputs": [],
      "source": [
        "!mkdir -p pokemon"
      ]
    },
    {
      "cell_type": "code",
      "execution_count": 60,
      "metadata": {
        "id": "wPDZyqLX1dqQ"
      },
      "outputs": [],
      "source": [
        "for pokemonType in df['Type1'].unique():\n",
        "  new_dir = f'./pokemon/{pokemonType}'\n",
        "  makedirs(new_dir, exist_ok=True)\n",
        "  files = [labelledImages[name] for name in df[df['Type1'] == pokemonType]['Name']]\n",
        "  for f in files:\n",
        "    output = Path(f'{new_dir}/{f.name}')\n",
        "    shutil.move(f, output)"
      ]
    },
    {
      "cell_type": "code",
      "execution_count": 61,
      "metadata": {
        "id": "Hi_FDmufLF8b"
      },
      "outputs": [],
      "source": [
        "dataPath = Path('/content/pokemon')"
      ]
    },
    {
      "cell_type": "code",
      "execution_count": 62,
      "metadata": {
        "id": "v8rvmQnMLViu",
        "colab": {
          "base_uri": "https://localhost:8080/"
        },
        "outputId": "8d97a467-4207-4779-b3c7-c1fbc6caa06c"
      },
      "outputs": [
        {
          "output_type": "stream",
          "name": "stdout",
          "text": [
            "Found 809 files belonging to 18 classes.\n",
            "Using 567 files for training.\n"
          ]
        }
      ],
      "source": [
        "trainDS = tf.keras.utils.image_dataset_from_directory(\n",
        "  dataPath,\n",
        "  validation_split=0.3,\n",
        "  label_mode='categorical',\n",
        "  subset=\"training\",\n",
        "  seed=SEED,\n",
        "  image_size=imgSize,\n",
        "  batch_size=batchSize)"
      ]
    },
    {
      "cell_type": "code",
      "execution_count": 63,
      "metadata": {
        "id": "uag5B73IOu7u",
        "colab": {
          "base_uri": "https://localhost:8080/"
        },
        "outputId": "3f4e8c6a-f507-4ea1-8156-d98ddddc7f76"
      },
      "outputs": [
        {
          "output_type": "stream",
          "name": "stdout",
          "text": [
            "Found 809 files belonging to 18 classes.\n",
            "Using 161 files for validation.\n"
          ]
        }
      ],
      "source": [
        "valDS = tf.keras.utils.image_dataset_from_directory(\n",
        "  dataPath,\n",
        "  validation_split=0.2,\n",
        "  label_mode='categorical',\n",
        "  subset=\"validation\",\n",
        "  seed=SEED,\n",
        "  image_size=imgSize,\n",
        "  batch_size=batchSize)"
      ]
    },
    {
      "cell_type": "code",
      "source": [
        "cardinality = tf.data.experimental.cardinality(valDS)\n",
        "halfed = cardinality//2\n",
        "testDS = valDS.take(halfed)\n",
        "valDS = valDS.skip(halfed)"
      ],
      "metadata": {
        "id": "ju24CzjMkqVw"
      },
      "execution_count": 64,
      "outputs": []
    },
    {
      "cell_type": "code",
      "source": [
        "types = trainDS.class_names\n",
        "types"
      ],
      "metadata": {
        "id": "j30DMFsZmPVw",
        "colab": {
          "base_uri": "https://localhost:8080/"
        },
        "outputId": "546d32b4-f340-4db2-82f3-f6d69e623c74"
      },
      "execution_count": 65,
      "outputs": [
        {
          "output_type": "execute_result",
          "data": {
            "text/plain": [
              "['Bug',\n",
              " 'Dark',\n",
              " 'Dragon',\n",
              " 'Electric',\n",
              " 'Fairy',\n",
              " 'Fighting',\n",
              " 'Fire',\n",
              " 'Flying',\n",
              " 'Ghost',\n",
              " 'Grass',\n",
              " 'Ground',\n",
              " 'Ice',\n",
              " 'Normal',\n",
              " 'Poison',\n",
              " 'Psychic',\n",
              " 'Rock',\n",
              " 'Steel',\n",
              " 'Water']"
            ]
          },
          "metadata": {},
          "execution_count": 65
        }
      ]
    },
    {
      "cell_type": "markdown",
      "source": [
        "The model was able to recognize the 18 types which is evident from the 809 images split into 18 classes."
      ],
      "metadata": {
        "id": "6Rb4cJlCTscy"
      }
    },
    {
      "cell_type": "code",
      "source": [
        "plt.figure(figsize=(10, 10))\n",
        "for images, labels in trainDS.take(1):\n",
        "  for i in range(12):\n",
        "    ax = plt.subplot(4, 4, i + 1)\n",
        "    plt.imshow(images[i].numpy().astype(\"uint8\"))\n",
        "    plt.title(types[np.argmax(labels[i])])\n",
        "    plt.axis(\"off\")"
      ],
      "metadata": {
        "id": "scnH_aKlp0MK",
        "colab": {
          "base_uri": "https://localhost:8080/",
          "height": 449
        },
        "outputId": "b94db049-a519-442e-f9bd-5de5382db7b0"
      },
      "execution_count": 66,
      "outputs": [
        {
          "output_type": "display_data",
          "data": {
            "text/plain": [
              "<Figure size 720x720 with 12 Axes>"
            ],
            "image/png": "[encoded data removed]"
          },
          "metadata": {
            "needs_background": "light"
          }
        }
      ]
    },
    {
      "cell_type": "code",
      "source": [
        "# Model Implementation\n",
        "\n",
        "model = tf.keras.Sequential([\n",
        "    \n",
        "    # Input Layer\n",
        "    tf.keras.layers.Resizing(256, 256, input_shape=(imgSize[0], imgSize[1], 3)),\n",
        "\n",
        "    # Convolutional Layers\n",
        "    tf.keras.layers.Conv2D(16, 3, padding='same', activation='relu'),\n",
        "    tf.keras.layers.MaxPooling2D((2, 2)),\n",
        "    tf.keras.layers.Conv2D(16, 3, padding='same', activation='relu'),\n",
        "    tf.keras.layers.MaxPooling2D((2, 2)),\n",
        "    tf.keras.layers.Conv2D(32, 3, padding='same', activation='relu'),\n",
        "    tf.keras.layers.MaxPooling2D((2, 2)),\n",
        "\n",
        "    # Dense Layers\n",
        "    tf.keras.layers.Flatten(),\n",
        "    tf.keras.layers.Dense(256, activation='relu'),\n",
        "    tf.keras.layers.Dense(128, activation='relu'),\n",
        "    tf.keras.layers.Dense(64, activation='relu'),\n",
        "    tf.keras.layers.Dropout(0.3),\n",
        "    tf.keras.layers.Dense(len(types))\n",
        "])"
      ],
      "metadata": {
        "id": "gDqlYhTubfzx"
      },
      "execution_count": 67,
      "outputs": []
    },
    {
      "cell_type": "code",
      "source": [
        "model.compile(\n",
        "              optimizer='adam',\n",
        "              loss=tf.keras.losses.CategoricalCrossentropy(from_logits=True),\n",
        "              metrics=['accuracy']\n",
        "              )\n",
        "model.summary()"
      ],
      "metadata": {
        "id": "E4VjlQU0kM2s",
        "colab": {
          "base_uri": "https://localhost:8080/"
        },
        "outputId": "0b3ca502-e17d-4041-9eba-95d276f455be"
      },
      "execution_count": 68,
      "outputs": [
        {
          "output_type": "stream",
          "name": "stdout",
          "text": [
            "Model: \"sequential_2\"\n",
            "_________________________________________________________________\n",
            " Layer (type)                Output Shape              Param #   \n",
            "=================================================================\n",
            " resizing_2 (Resizing)       (None, 256, 256, 3)       0         \n",
            "                                                                 \n",
            " conv2d_100 (Conv2D)         (None, 256, 256, 16)      448       \n",
            "                                                                 \n",
            " max_pooling2d_10 (MaxPoolin  (None, 128, 128, 16)     0         \n",
            " g2D)                                                            \n",
            "                                                                 \n",
            " conv2d_101 (Conv2D)         (None, 128, 128, 16)      2320      \n",
            "                                                                 \n",
            " max_pooling2d_11 (MaxPoolin  (None, 64, 64, 16)       0         \n",
            " g2D)                                                            \n",
            "                                                                 \n",
            " conv2d_102 (Conv2D)         (None, 64, 64, 32)        4640      \n",
            "                                                                 \n",
            " max_pooling2d_12 (MaxPoolin  (None, 32, 32, 32)       0         \n",
            " g2D)                                                            \n",
            "                                                                 \n",
            " flatten_2 (Flatten)         (None, 32768)             0         \n",
            "                                                                 \n",
            " dense_9 (Dense)             (None, 256)               8388864   \n",
            "                                                                 \n",
            " dense_10 (Dense)            (None, 128)               32896     \n",
            "                                                                 \n",
            " dense_11 (Dense)            (None, 64)                8256      \n",
            "                                                                 \n",
            " dropout_3 (Dropout)         (None, 64)                0         \n",
            "                                                                 \n",
            " dense_12 (Dense)            (None, 18)                1170      \n",
            "                                                                 \n",
            "=================================================================\n",
            "Total params: 8,438,594\n",
            "Trainable params: 8,438,594\n",
            "Non-trainable params: 0\n",
            "_________________________________________________________________\n"
          ]
        }
      ]
    },
    {
      "cell_type": "code",
      "source": [
        "history = model.fit(\n",
        "            trainDS,\n",
        "            validation_data=valDS,\n",
        "            epochs=20\n",
        "          )"
      ],
      "metadata": {
        "id": "trJv9wpplSpJ",
        "colab": {
          "base_uri": "https://localhost:8080/"
        },
        "outputId": "ca5e63c3-e5a7-4a5a-8455-cb2f87ab87ec"
      },
      "execution_count": 69,
      "outputs": [
        {
          "output_type": "stream",
          "name": "stdout",
          "text": [
            "Epoch 1/20\n",
            "18/18 [==============================] - 29s 2s/step - loss: 39.5559 - accuracy: 0.0653 - val_loss: 3.2677 - val_accuracy: 0.0615\n",
            "Epoch 2/20\n",
            "18/18 [==============================] - 29s 2s/step - loss: 2.8490 - accuracy: 0.1076 - val_loss: 2.8307 - val_accuracy: 0.1231\n",
            "Epoch 3/20\n",
            "18/18 [==============================] - 28s 2s/step - loss: 2.5878 - accuracy: 0.1869 - val_loss: 2.8622 - val_accuracy: 0.1077\n",
            "Epoch 4/20\n",
            "18/18 [==============================] - 28s 2s/step - loss: 2.2946 - accuracy: 0.2540 - val_loss: 2.9405 - val_accuracy: 0.1231\n",
            "Epoch 5/20\n",
            "18/18 [==============================] - 28s 2s/step - loss: 2.0027 - accuracy: 0.3316 - val_loss: 2.8896 - val_accuracy: 0.0769\n",
            "Epoch 6/20\n",
            "18/18 [==============================] - 28s 2s/step - loss: 1.7832 - accuracy: 0.4145 - val_loss: 3.0063 - val_accuracy: 0.1231\n",
            "Epoch 7/20\n",
            "18/18 [==============================] - 28s 2s/step - loss: 1.5220 - accuracy: 0.5062 - val_loss: 2.8433 - val_accuracy: 0.1692\n",
            "Epoch 8/20\n",
            "18/18 [==============================] - 28s 2s/step - loss: 1.3521 - accuracy: 0.5591 - val_loss: 3.0014 - val_accuracy: 0.2154\n",
            "Epoch 9/20\n",
            "18/18 [==============================] - 28s 2s/step - loss: 1.2290 - accuracy: 0.6208 - val_loss: 3.2102 - val_accuracy: 0.1538\n",
            "Epoch 10/20\n",
            "18/18 [==============================] - 28s 2s/step - loss: 1.0730 - accuracy: 0.6526 - val_loss: 3.3267 - val_accuracy: 0.0923\n",
            "Epoch 11/20\n",
            "18/18 [==============================] - 28s 2s/step - loss: 0.9511 - accuracy: 0.6931 - val_loss: 3.6397 - val_accuracy: 0.1385\n",
            "Epoch 12/20\n",
            "18/18 [==============================] - 28s 2s/step - loss: 0.8781 - accuracy: 0.7002 - val_loss: 3.0460 - val_accuracy: 0.2000\n",
            "Epoch 13/20\n",
            "18/18 [==============================] - 28s 2s/step - loss: 0.8637 - accuracy: 0.7019 - val_loss: 3.7411 - val_accuracy: 0.1538\n",
            "Epoch 14/20\n",
            "18/18 [==============================] - 28s 2s/step - loss: 0.8235 - accuracy: 0.7319 - val_loss: 3.5278 - val_accuracy: 0.2000\n",
            "Epoch 15/20\n",
            "18/18 [==============================] - 28s 2s/step - loss: 0.6966 - accuracy: 0.7549 - val_loss: 4.0617 - val_accuracy: 0.1231\n",
            "Epoch 16/20\n",
            "18/18 [==============================] - 28s 2s/step - loss: 0.6846 - accuracy: 0.7813 - val_loss: 4.0718 - val_accuracy: 0.0769\n",
            "Epoch 17/20\n",
            "18/18 [==============================] - 28s 2s/step - loss: 0.6236 - accuracy: 0.8025 - val_loss: 4.2813 - val_accuracy: 0.1846\n",
            "Epoch 18/20\n",
            "18/18 [==============================] - 28s 2s/step - loss: 0.6521 - accuracy: 0.8042 - val_loss: 4.5577 - val_accuracy: 0.1077\n",
            "Epoch 19/20\n",
            "18/18 [==============================] - 28s 2s/step - loss: 0.5508 - accuracy: 0.8307 - val_loss: 4.2074 - val_accuracy: 0.1231\n",
            "Epoch 20/20\n",
            "18/18 [==============================] - 28s 2s/step - loss: 0.6366 - accuracy: 0.8131 - val_loss: 4.4938 - val_accuracy: 0.1077\n"
          ]
        }
      ]
    },
    {
      "cell_type": "code",
      "source": [
        "loss, accuracy = model.evaluate(testDS)\n",
        "print(f'Test loss: {loss}, Test accuracy: {accuracy}')"
      ],
      "metadata": {
        "id": "FWGdR4iH4Q4r",
        "colab": {
          "base_uri": "https://localhost:8080/"
        },
        "outputId": "68867252-d5f9-4744-c58a-74161502d677"
      },
      "execution_count": 70,
      "outputs": [
        {
          "output_type": "stream",
          "name": "stdout",
          "text": [
            "3/3 [==============================] - 2s 490ms/step - loss: 4.4968 - accuracy: 0.1667\n",
            "Test loss: 4.496799468994141, Test accuracy: 0.1666666716337204\n"
          ]
        }
      ]
    },
    {
      "cell_type": "markdown",
      "source": [
        "The pokemon were designed purposefully to have certain traits match the assigned types. For example, the pokemon gloomish resembles that of a plant and has a flower like structure on top of its head, signifying it is a grass type pokemon. Another example would be squirtle where its shape and characteristics were modeled after a turtle which is an amphibious createure. Along with this, it has a blue color, strongly correlating itself to being a water type. Many of the pokemon within a certain type category share much similarities and it would be essential for these patterns to be discovered by the model. \n",
        "\n",
        "The implementation had 3 convolutional, pooling and dense layers. Even with the change in hyperparemeters and playing with values, the performance is far from satisfactory. The loss is at a high value and the test accuracy is at an extremely low 6%. This is a complicated problem since it does need to categorize the pokemon into 18 clasesses. Most likely it is difficult for this model to generalize with this manny options and it is problably going through much overfitting too."
      ],
      "metadata": {
        "id": "Z1G4GLB9VBI5"
      }
    },
    {
      "cell_type": "markdown",
      "source": [
        "**Part 2 (25 points)**: The following models are widely used for transfer learning because of\n",
        "their performance and architectural innovations:\n",
        "1. VGG (e.g., VGG16 or VGG19).\n",
        "2. GoogLeNet (e.g., InceptionV3).\n",
        "3. Residual Network (e.g., ResNet50).\n",
        "4. MobileNet (e.g., MobileNetV2)\n",
        "\n",
        "Choose any **one** of the above models to perform the classification task you did in Part 1.\n",
        "Evaluate the results using the same metrics as in Part 1. Are there any differences? Why\n",
        "or why not?"
      ],
      "metadata": {
        "id": "d9Rai4hqo_AN"
      }
    },
    {
      "cell_type": "code",
      "source": [
        "size = imgSize[0]\n",
        "googleInception = tf.keras.applications.inception_v3.InceptionV3(\n",
        "  include_top=False,\n",
        "  input_shape=(size, size, 3),\n",
        "  weights='imagenet'\n",
        ")"
      ],
      "metadata": {
        "id": "LqQGP2H6pdOI"
      },
      "execution_count": 71,
      "outputs": []
    },
    {
      "cell_type": "code",
      "source": [
        "input = tf.keras.Input((size, size, 3))\n",
        "x = tf.keras.applications.inception_v3.preprocess_input(input)\n",
        "x = googleInception(x)\n",
        "x = tf.keras.layers.GlobalAveragePooling2D()(x)\n",
        "x = tf.keras.layers.Dropout(0.2)(x)\n",
        "output = tf.keras.layers.Dense(len(types))(x)\n",
        "model = tf.keras.Model(input, output)"
      ],
      "metadata": {
        "id": "MxCeCQc9qspg"
      },
      "execution_count": 72,
      "outputs": []
    },
    {
      "cell_type": "code",
      "source": [
        "model.compile(\n",
        "              optimizer='adam',\n",
        "              loss=tf.keras.losses.CategoricalCrossentropy(from_logits=True),\n",
        "              metrics=['accuracy']\n",
        "              )"
      ],
      "metadata": {
        "id": "yjaoSOJ4tJJm"
      },
      "execution_count": 73,
      "outputs": []
    },
    {
      "cell_type": "code",
      "source": [
        "model.summary()"
      ],
      "metadata": {
        "id": "8m-7AaCrtXVs",
        "colab": {
          "base_uri": "https://localhost:8080/"
        },
        "outputId": "d41bae90-a268-4b28-edbb-8c589a661e9c"
      },
      "execution_count": 74,
      "outputs": [
        {
          "output_type": "stream",
          "name": "stdout",
          "text": [
            "Model: \"model_1\"\n",
            "_________________________________________________________________\n",
            " Layer (type)                Output Shape              Param #   \n",
            "=================================================================\n",
            " input_4 (InputLayer)        [(None, 128, 128, 3)]     0         \n",
            "                                                                 \n",
            " tf.math.truediv_1 (TFOpLamb  (None, 128, 128, 3)      0         \n",
            " da)                                                             \n",
            "                                                                 \n",
            " tf.math.subtract_1 (TFOpLam  (None, 128, 128, 3)      0         \n",
            " bda)                                                            \n",
            "                                                                 \n",
            " inception_v3 (Functional)   (None, 2, 2, 2048)        21802784  \n",
            "                                                                 \n",
            " global_average_pooling2d_1   (None, 2048)             0         \n",
            " (GlobalAveragePooling2D)                                        \n",
            "                                                                 \n",
            " dropout_4 (Dropout)         (None, 2048)              0         \n",
            "                                                                 \n",
            " dense_13 (Dense)            (None, 18)                36882     \n",
            "                                                                 \n",
            "=================================================================\n",
            "Total params: 21,839,666\n",
            "Trainable params: 21,805,234\n",
            "Non-trainable params: 34,432\n",
            "_________________________________________________________________\n"
          ]
        }
      ]
    },
    {
      "cell_type": "code",
      "source": [
        "history = model.fit(\n",
        "            trainDS,\n",
        "            validation_data=valDS,\n",
        "            epochs=12\n",
        "          )"
      ],
      "metadata": {
        "id": "HT_zGhaAtbn0",
        "colab": {
          "base_uri": "https://localhost:8080/"
        },
        "outputId": "2fe3a1cd-298c-410f-f3b6-69fad74843f9"
      },
      "execution_count": 75,
      "outputs": [
        {
          "output_type": "stream",
          "name": "stdout",
          "text": [
            "Epoch 1/12\n",
            "18/18 [==============================] - 108s 6s/step - loss: 2.9538 - accuracy: 0.1429 - val_loss: 21.1632 - val_accuracy: 0.1692\n",
            "Epoch 2/12\n",
            "18/18 [==============================] - 99s 5s/step - loss: 2.5245 - accuracy: 0.2504 - val_loss: 27.8394 - val_accuracy: 0.0923\n",
            "Epoch 3/12\n",
            "18/18 [==============================] - 97s 5s/step - loss: 2.2087 - accuracy: 0.3245 - val_loss: 538.8924 - val_accuracy: 0.1385\n",
            "Epoch 4/12\n",
            "18/18 [==============================] - 98s 5s/step - loss: 1.8877 - accuracy: 0.4409 - val_loss: 21.9462 - val_accuracy: 0.0462\n",
            "Epoch 5/12\n",
            "18/18 [==============================] - 99s 5s/step - loss: 1.4361 - accuracy: 0.5820 - val_loss: 4.3238 - val_accuracy: 0.1231\n",
            "Epoch 6/12\n",
            "18/18 [==============================] - 98s 5s/step - loss: 1.1382 - accuracy: 0.6984 - val_loss: 4.3346 - val_accuracy: 0.2000\n",
            "Epoch 7/12\n",
            "18/18 [==============================] - 98s 5s/step - loss: 0.9642 - accuracy: 0.7407 - val_loss: 16.3074 - val_accuracy: 0.1077\n",
            "Epoch 8/12\n",
            "18/18 [==============================] - 98s 5s/step - loss: 0.9290 - accuracy: 0.7249 - val_loss: 151.5211 - val_accuracy: 0.1231\n",
            "Epoch 9/12\n",
            "18/18 [==============================] - 98s 5s/step - loss: 0.6517 - accuracy: 0.8131 - val_loss: 3.2132 - val_accuracy: 0.1538\n",
            "Epoch 10/12\n",
            "18/18 [==============================] - 98s 5s/step - loss: 0.4252 - accuracy: 0.8836 - val_loss: 11.3900 - val_accuracy: 0.2154\n",
            "Epoch 11/12\n",
            "18/18 [==============================] - 97s 5s/step - loss: 0.4939 - accuracy: 0.8607 - val_loss: 4.8825 - val_accuracy: 0.1538\n",
            "Epoch 12/12\n",
            "18/18 [==============================] - 97s 5s/step - loss: 0.4918 - accuracy: 0.8519 - val_loss: 13.9986 - val_accuracy: 0.1846\n"
          ]
        }
      ]
    },
    {
      "cell_type": "code",
      "source": [
        "loss, accuracy = model.evaluate(testDS)\n",
        "print(f'Test loss: {loss}, Test accuracy: {accuracy}')"
      ],
      "metadata": {
        "id": "v2Iafr6ftxGn",
        "colab": {
          "base_uri": "https://localhost:8080/"
        },
        "outputId": "289bd38e-cf07-4361-9282-90d508148b59"
      },
      "execution_count": 76,
      "outputs": [
        {
          "output_type": "stream",
          "name": "stdout",
          "text": [
            "3/3 [==============================] - 3s 905ms/step - loss: 16.2591 - accuracy: 0.2188\n",
            "Test loss: 16.25908851623535, Test accuracy: 0.21875\n"
          ]
        }
      ]
    },
    {
      "cell_type": "markdown",
      "source": [
        "The Inception V3 model by Google performaed much better with a way higher accuracy. Overfitting is still occurring but, this pretrained model was given a sufficient amount of quality data to give a better performance overall. This is definitely a big improvement compared to the last model. "
      ],
      "metadata": {
        "id": "31Vw3lauZyiK"
      }
    },
    {
      "cell_type": "markdown",
      "source": [
        "**Part 3 (25 points)**:  Use data augmentation to increase the diversity of your dataset by\n",
        "applying random transformations such as image rotation (you can use any other\n",
        "technique as well). Repeat the process from part 1 with this augmented data. Did you\n",
        "observe any difference in results?"
      ],
      "metadata": {
        "id": "bCYE5q2vt5Yv"
      }
    },
    {
      "cell_type": "code",
      "source": [
        "model = tf.keras.Sequential([\n",
        "\n",
        "  # Input Layer\n",
        "  tf.keras.layers.Resizing(256, 256, input_shape=(size, size, 3)),\n",
        "\n",
        "  # Random Flip and Rotation\n",
        "  tf.keras.layers.RandomFlip(\"horizontal\"),\n",
        "  tf.keras.layers.RandomRotation(0.1),\n",
        "\n",
        "  tf.keras.layers.RandomZoom(0.1),\n",
        "  tf.keras.layers.Rescaling(1./255),\n",
        "\n",
        "  # Convolutional Layers\n",
        "  tf.keras.layers.Conv2D(16, 3, padding='same', activation='relu'),\n",
        "  tf.keras.layers.MaxPooling2D((2, 2)),\n",
        "  tf.keras.layers.Conv2D(16, 3, padding='same', activation='relu'),\n",
        "  tf.keras.layers.MaxPooling2D((2, 2)),\n",
        "  tf.keras.layers.Conv2D(32, 3, padding='same', activation='relu'),\n",
        "  tf.keras.layers.MaxPooling2D((2, 2)),\n",
        "\n",
        "  # Dense Layers\n",
        "  tf.keras.layers.Flatten(),\n",
        "  tf.keras.layers.Dense(256, activation='relu'),\n",
        "  tf.keras.layers.Dense(128, activation='relu'),\n",
        "  tf.keras.layers.Dense(64, activation='relu'),\n",
        "  tf.keras.layers.Dropout(0.4),\n",
        "  tf.keras.layers.Dense(len(types))\n",
        "\n",
        "])"
      ],
      "metadata": {
        "id": "Zodeo0yzt4vh"
      },
      "execution_count": 77,
      "outputs": []
    },
    {
      "cell_type": "code",
      "source": [
        "model.compile(\n",
        "              optimizer='adam',\n",
        "              loss=tf.keras.losses.CategoricalCrossentropy(from_logits=True),\n",
        "              metrics=['accuracy']\n",
        "              )"
      ],
      "metadata": {
        "id": "Cjij2fAVyt7o"
      },
      "execution_count": 78,
      "outputs": []
    },
    {
      "cell_type": "code",
      "source": [
        "history = model.fit(\n",
        "            trainDS,\n",
        "            validation_data=valDS,\n",
        "            epochs=20\n",
        "          )"
      ],
      "metadata": {
        "id": "aIqWX8Eqy6eg",
        "colab": {
          "base_uri": "https://localhost:8080/"
        },
        "outputId": "279bf2c5-16d3-43a6-83f2-b91c5388d9ab"
      },
      "execution_count": 79,
      "outputs": [
        {
          "output_type": "stream",
          "name": "stdout",
          "text": [
            "Epoch 1/20\n",
            "18/18 [==============================] - 35s 2s/step - loss: 2.8309 - accuracy: 0.0935 - val_loss: 2.7579 - val_accuracy: 0.1538\n",
            "Epoch 2/20\n",
            "18/18 [==============================] - 34s 2s/step - loss: 2.7695 - accuracy: 0.1358 - val_loss: 2.7420 - val_accuracy: 0.0923\n",
            "Epoch 3/20\n",
            "18/18 [==============================] - 34s 2s/step - loss: 2.7504 - accuracy: 0.1270 - val_loss: 2.7891 - val_accuracy: 0.1538\n",
            "Epoch 4/20\n",
            "18/18 [==============================] - 33s 2s/step - loss: 2.7430 - accuracy: 0.1235 - val_loss: 2.7316 - val_accuracy: 0.1231\n",
            "Epoch 5/20\n",
            "18/18 [==============================] - 34s 2s/step - loss: 2.6861 - accuracy: 0.1517 - val_loss: 2.5250 - val_accuracy: 0.2462\n",
            "Epoch 6/20\n",
            "18/18 [==============================] - 35s 2s/step - loss: 2.6491 - accuracy: 0.1834 - val_loss: 2.5462 - val_accuracy: 0.3077\n",
            "Epoch 7/20\n",
            "18/18 [==============================] - 34s 2s/step - loss: 2.5994 - accuracy: 0.1887 - val_loss: 2.6493 - val_accuracy: 0.1692\n",
            "Epoch 8/20\n",
            "18/18 [==============================] - 34s 2s/step - loss: 2.5428 - accuracy: 0.2187 - val_loss: 2.5868 - val_accuracy: 0.2154\n",
            "Epoch 9/20\n",
            "18/18 [==============================] - 33s 2s/step - loss: 2.5346 - accuracy: 0.2328 - val_loss: 2.6135 - val_accuracy: 0.2154\n",
            "Epoch 10/20\n",
            "18/18 [==============================] - 33s 2s/step - loss: 2.4806 - accuracy: 0.2504 - val_loss: 2.4920 - val_accuracy: 0.3077\n",
            "Epoch 11/20\n",
            "18/18 [==============================] - 34s 2s/step - loss: 2.4662 - accuracy: 0.2593 - val_loss: 2.5314 - val_accuracy: 0.2462\n",
            "Epoch 12/20\n",
            "18/18 [==============================] - 34s 2s/step - loss: 2.3765 - accuracy: 0.2628 - val_loss: 2.4364 - val_accuracy: 0.2615\n",
            "Epoch 13/20\n",
            "18/18 [==============================] - 34s 2s/step - loss: 2.3733 - accuracy: 0.2840 - val_loss: 2.5717 - val_accuracy: 0.2769\n",
            "Epoch 14/20\n",
            "18/18 [==============================] - 34s 2s/step - loss: 2.3042 - accuracy: 0.3069 - val_loss: 2.5920 - val_accuracy: 0.1846\n",
            "Epoch 15/20\n",
            "18/18 [==============================] - 34s 2s/step - loss: 2.3141 - accuracy: 0.2998 - val_loss: 2.5387 - val_accuracy: 0.2308\n",
            "Epoch 16/20\n",
            "18/18 [==============================] - 34s 2s/step - loss: 2.2768 - accuracy: 0.2981 - val_loss: 2.5483 - val_accuracy: 0.1846\n",
            "Epoch 17/20\n",
            "18/18 [==============================] - 34s 2s/step - loss: 2.2269 - accuracy: 0.3086 - val_loss: 2.5779 - val_accuracy: 0.2769\n",
            "Epoch 18/20\n",
            "18/18 [==============================] - 34s 2s/step - loss: 2.1824 - accuracy: 0.3245 - val_loss: 2.4075 - val_accuracy: 0.3077\n",
            "Epoch 19/20\n",
            "18/18 [==============================] - 34s 2s/step - loss: 2.1330 - accuracy: 0.3386 - val_loss: 2.6403 - val_accuracy: 0.2462\n",
            "Epoch 20/20\n",
            "18/18 [==============================] - 34s 2s/step - loss: 2.1007 - accuracy: 0.3280 - val_loss: 2.6249 - val_accuracy: 0.2462\n"
          ]
        }
      ]
    },
    {
      "cell_type": "code",
      "source": [
        "loss, accuracy = model.evaluate(testDS)\n",
        "print(f'Test loss: {loss}, Test accuracy: {accuracy}')"
      ],
      "metadata": {
        "colab": {
          "base_uri": "https://localhost:8080/"
        },
        "id": "1wYm14Y9-zmi",
        "outputId": "2537e719-548b-424f-e577-87483e9b907f"
      },
      "execution_count": 80,
      "outputs": [
        {
          "output_type": "stream",
          "name": "stdout",
          "text": [
            "3/3 [==============================] - 2s 494ms/step - loss: 2.6226 - accuracy: 0.2396\n",
            "Test loss: 2.6225855350494385, Test accuracy: 0.2395833283662796\n"
          ]
        }
      ]
    },
    {
      "cell_type": "markdown",
      "source": [
        "With the augmented model, the performance was even better compared to previous two. The accuracy is at 0.27 which is most likely the highest is can be. With more configuration, its performance can probably be boosted a slight amount but the implementations run time still takes a considerable amount. Overfitting is definitely still occurring most likely due to an uneven spread of the classified types of the pokemon."
      ],
      "metadata": {
        "id": "u0FtTLtpPZm4"
      }
    },
    {
      "cell_type": "markdown",
      "source": [
        "**Task 2 (30 points)**:"
      ],
      "metadata": {
        "id": "KYGQUkZ8SO-0"
      }
    },
    {
      "cell_type": "markdown",
      "source": [
        "**Part 1 (15 points)**: Variational Autoencoder (VAE): Here is a complete implementation\n",
        "of a VAE in TensorFlow: https://www.tensorflow.org/tutorials/generative/cvae\n",
        "Following these steps try generating images using the same encoder-decoder architecture using\n",
        "a different Image dataset (other than MNIST)."
      ],
      "metadata": {
        "id": "-l0oF0ttWr3C"
      }
    },
    {
      "cell_type": "code",
      "source": [
        "def preprocess_images(images):\n",
        "  images = images/255.\n",
        "  return np.where(images > .5, 1.0, 0.0).astype('float32')"
      ],
      "metadata": {
        "id": "-jCSwk6LXVp7"
      },
      "execution_count": 95,
      "outputs": []
    },
    {
      "cell_type": "code",
      "source": [
        "trainImages = np.concatenate([x for x, y in trainDS], axis=0)\n",
        "testImages = np.concatenate([x for x, y in valDS], axis=0)"
      ],
      "metadata": {
        "id": "RBrN3OY6ZAa_"
      },
      "execution_count": 96,
      "outputs": []
    },
    {
      "cell_type": "code",
      "source": [
        "trainImages = preprocess_images(trainImages)\n",
        "testImages = preprocess_images(testImages)"
      ],
      "metadata": {
        "id": "N0kYRLWkZA43"
      },
      "execution_count": 97,
      "outputs": []
    },
    {
      "cell_type": "code",
      "source": [
        "class CVAE(tf.keras.Model):\n",
        "  \"\"\"Convolutional variational autoencoder.\"\"\"\n",
        "\n",
        "  def __init__(self, latent_dim):\n",
        "    super(CVAE, self).__init__()\n",
        "    self.latent_dim = latent_dim\n",
        "    self.encoder = tf.keras.Sequential(\n",
        "        [\n",
        "            tf.keras.layers.InputLayer(input_shape=(size, size, 3)),\n",
        "            tf.keras.layers.Conv2D(\n",
        "                filters=32, kernel_size=3, strides=(2, 2), activation='relu'),\n",
        "            tf.keras.layers.Conv2D(\n",
        "                filters=64, kernel_size=3, strides=(2, 2), activation='relu'),\n",
        "            tf.keras.layers.Flatten(),\n",
        "            # No activation\n",
        "            tf.keras.layers.Dense(latent_dim + latent_dim),\n",
        "        ]\n",
        "    )\n",
        "\n",
        "    self.decoder = tf.keras.Sequential(\n",
        "        [\n",
        "            tf.keras.layers.InputLayer(input_shape=(latent_dim,)),\n",
        "            tf.keras.layers.Dense(units=32**3, activation=tf.nn.relu),\n",
        "            tf.keras.layers.Reshape(target_shape=(32, 32, 32)),\n",
        "            tf.keras.layers.Conv2DTranspose(\n",
        "                filters=64, kernel_size=3, strides=2, padding='same',\n",
        "                activation='relu'),\n",
        "            tf.keras.layers.Conv2DTranspose(\n",
        "                filters=32, kernel_size=3, strides=2, padding='same',\n",
        "                activation='relu'),\n",
        "            # No activation\n",
        "            tf.keras.layers.Conv2DTranspose(\n",
        "                filters=3, kernel_size=3, strides=1, padding='same'),\n",
        "        ]\n",
        "    )\n",
        "\n",
        "  @tf.function\n",
        "  def sample(self, eps=None):\n",
        "    if eps is None:\n",
        "      eps = tf.random.normal(shape=(100, self.latent_dim))\n",
        "    return self.decode(eps, apply_sigmoid=True)\n",
        "\n",
        "  def encode(self, x):\n",
        "    mean, logvar = tf.split(self.encoder(x), num_or_size_splits=2, axis=1)\n",
        "    return mean, logvar\n",
        "\n",
        "  def reparameterize(self, mean, logvar):\n",
        "    eps = tf.random.normal(shape=mean.shape)\n",
        "    return eps * tf.exp(logvar * .5) + mean\n",
        "\n",
        "  def decode(self, z, apply_sigmoid=False):\n",
        "    logits = self.decoder(z)\n",
        "    if apply_sigmoid:\n",
        "      probs = tf.sigmoid(logits)\n",
        "      return probs\n",
        "    return logits"
      ],
      "metadata": {
        "id": "Z6sucx_TSOKQ"
      },
      "execution_count": 98,
      "outputs": []
    },
    {
      "cell_type": "code",
      "source": [
        "optimizer = tf.keras.optimizers.Adam(1e-4)\n",
        "\n",
        "\n",
        "def log_normal_pdf(sample, mean, logvar, raxis=1):\n",
        "  log2pi = tf.math.log(2. * np.pi)\n",
        "  return tf.reduce_sum(\n",
        "      -.5 * ((sample - mean) ** 2. * tf.exp(-logvar) + logvar + log2pi),\n",
        "      axis=raxis)\n",
        "\n",
        "\n",
        "def compute_loss(model, x):\n",
        "  mean, logvar = model.encode(x)\n",
        "  z = model.reparameterize(mean, logvar)\n",
        "  x_logit = model.decode(z)\n",
        "  cross_ent = tf.nn.sigmoid_cross_entropy_with_logits(logits=x_logit, labels=x)\n",
        "  logpx_z = -tf.reduce_sum(cross_ent, axis=[1, 2, 3])\n",
        "  logpz = log_normal_pdf(z, 0., 0.)\n",
        "  logqz_x = log_normal_pdf(z, mean, logvar)\n",
        "  return -tf.reduce_mean(logpx_z + logpz - logqz_x)\n",
        "\n",
        "\n",
        "@tf.function\n",
        "def train_step(model, x, optimizer):\n",
        "  \"\"\"Executes one training step and returns the loss.\n",
        "\n",
        "  This function computes the loss and gradients, and uses the latter to\n",
        "  update the model's parameters.\n",
        "  \"\"\"\n",
        "  with tf.GradientTape() as tape:\n",
        "    loss = compute_loss(model, x)\n",
        "  gradients = tape.gradient(loss, model.trainable_variables)\n",
        "  optimizer.apply_gradients(zip(gradients, model.trainable_variables))"
      ],
      "metadata": {
        "id": "5BZKkh3Ie4a4"
      },
      "execution_count": 99,
      "outputs": []
    },
    {
      "cell_type": "code",
      "source": [
        "epochs = 20\n",
        "latent_dim = 200\n",
        "num_examples_to_generate = 16\n",
        "\n",
        "# keeping the random vector constant for generation (prediction) so\n",
        "# it will be easier to see the improvement.\n",
        "random_vector_for_generation = tf.random.normal(\n",
        "    shape=[num_examples_to_generate, latent_dim])\n",
        "model = CVAE(latent_dim)"
      ],
      "metadata": {
        "id": "WV7X946rfJpP"
      },
      "execution_count": 100,
      "outputs": []
    },
    {
      "cell_type": "code",
      "source": [
        "trainSize = 60000\n",
        "batchSize = 32\n",
        "testSize = 10000\n",
        "\n",
        "trainDataset = (tf.data.Dataset.from_tensor_slices(trainImages)\n",
        "                 .shuffle(trainSize).batch(batchSize))\n",
        "testDataset = (tf.data.Dataset.from_tensor_slices(testImages)\n",
        "                .shuffle(testSize).batch(batchSize))"
      ],
      "metadata": {
        "id": "KpAzvBQhfXOb"
      },
      "execution_count": 101,
      "outputs": []
    },
    {
      "cell_type": "code",
      "source": [
        "def generate_and_save_images(model, epoch, test_sample):\n",
        "  mean, logvar = model.encode(test_sample)\n",
        "  z = model.reparameterize(mean, logvar)\n",
        "  predictions = model.sample(z)\n",
        "  fig = plt.figure(figsize=(4, 4))\n",
        "\n",
        "  for i in range(predictions.shape[0]):\n",
        "    plt.subplot(4, 4, i + 1)\n",
        "    plt.imshow(predictions[i, :, :, 0], cmap='gray')\n",
        "    plt.axis('off')\n",
        "\n",
        "  # tight_layout minimizes the overlap between 2 sub-plots\n",
        "  plt.savefig('image_at_epoch_{:04d}.png'.format(epoch))\n",
        "  plt.show()\n",
        "\n",
        "# Pick a sample of the test set for generating output images\n",
        "assert batchSize >= num_examples_to_generate\n",
        "for test_batch in testDataset.take(1):\n",
        "  test_sample = test_batch[0:num_examples_to_generate, :, :, :]"
      ],
      "metadata": {
        "id": "ouf1nJEyfP5S"
      },
      "execution_count": 102,
      "outputs": []
    },
    {
      "cell_type": "code",
      "source": [
        "import time\n",
        "from IPython import display\n",
        "\n",
        "generate_and_save_images(model, 0, test_sample)\n",
        "\n",
        "for epoch in range(1, epochs + 1):\n",
        "  start_time = time.time()\n",
        "  for train_x in trainDataset:\n",
        "    train_step(model, train_x, optimizer)\n",
        "  end_time = time.time()\n",
        "\n",
        "  loss = tf.keras.metrics.Mean()\n",
        "  for test_x in testDataset:\n",
        "    loss(compute_loss(model, test_x))\n",
        "  elbo = -loss.result()\n",
        "  display.clear_output(wait=False)\n",
        "  print('Epoch: {}, Test set ELBO: {}, time elapse for current epoch: {}'\n",
        "        .format(epoch, elbo, end_time - start_time))\n",
        "  generate_and_save_images(model, epoch, test_sample)"
      ],
      "metadata": {
        "colab": {
          "base_uri": "https://localhost:8080/",
          "height": 265
        },
        "id": "94a13kn6hwSc",
        "outputId": "8b5b674f-735e-405a-c60e-48339a6fa7c1"
      },
      "execution_count": 103,
      "outputs": [
        {
          "output_type": "stream",
          "name": "stdout",
          "text": [
            "Epoch: 20, Test set ELBO: -12348.4736328125, time elapse for current epoch: 22.467506408691406\n"
          ]
        },
        {
          "output_type": "display_data",
          "data": {
            "text/plain": [
              "<Figure size 288x288 with 16 Axes>"
            ],
            "image/png": "[encoded data removed]"
          },
          "metadata": {
            "needs_background": "light"
          }
        }
      ]
    },
    {
      "cell_type": "markdown",
      "source": [
        "**Part 2 (15 points)**: Generative Adversarial Networks (GANs): Repeat part 1 (use same\n",
        "dataset) and implement a GAN model to generate high quality synthetic images. You may\n",
        "follow steps outlined here: https://www.tensorflow.org/tutorials/generative/dcgan"
      ],
      "metadata": {
        "id": "usH0CRXbW3LK"
      }
    },
    {
      "cell_type": "code",
      "source": [
        "images = np.concatenate([image for image, _ in trainDS], axis=0)\n",
        "labels = np.concatenate([label for _, label in trainDS], axis=0)"
      ],
      "metadata": {
        "id": "c58gPMsdj8iw"
      },
      "execution_count": 104,
      "outputs": []
    },
    {
      "cell_type": "code",
      "source": [
        "batchSize = 64"
      ],
      "metadata": {
        "id": "WmwjIuITkjQN"
      },
      "execution_count": 105,
      "outputs": []
    },
    {
      "cell_type": "code",
      "source": [],
      "metadata": {
        "id": "UUmgtoBckmAg"
      },
      "execution_count": null,
      "outputs": []
    }
  ],
  "metadata": {
    "colab": {
      "provenance": [],
      "collapsed_sections": [],
      "authorship_tag": "ABX9TyMnaHDgyLqKnmIRWfU8Paup",
      "include_colab_link": true
    },
    "kernelspec": {
      "display_name": "Python 3",
      "name": "python3"
    },
    "language_info": {
      "name": "python"
    }
  },
  "nbformat": 4,
  "nbformat_minor": 0
}